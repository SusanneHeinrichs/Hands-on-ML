{
 "cells": [
  {
   "cell_type": "code",
   "execution_count": 80,
   "metadata": {},
   "outputs": [],
   "source": [
    "# Common imports\n",
    "import numpy as np\n",
    "import os\n",
    "\n",
    "# to make this notebook's output stable across runs\n",
    "np.random.seed(42)\n",
    "\n",
    "# To plot pretty figures\n",
    "%matplotlib inline\n",
    "import matplotlib as mpl\n",
    "import matplotlib.pyplot as plt\n",
    "mpl.rc('axes', labelsize=14)\n",
    "mpl.rc('xtick', labelsize=12)\n",
    "mpl.rc('ytick', labelsize=12)\n",
    "\n",
    "# Where to save the figures\n",
    "PROJECT_ROOT_DIR = \".\"\n",
    "CHAPTER_ID = \"regression\"\n",
    "IMAGES_PATH = os.path.join(PROJECT_ROOT_DIR, \"images\", CHAPTER_ID)\n",
    "os.makedirs(IMAGES_PATH, exist_ok=True)\n",
    "\n",
    "def save_fig(fig_id, tight_layout=True, fig_extension=\"png\", resolution=300):\n",
    "    path = os.path.join(IMAGES_PATH, fig_id + \".\" + fig_extension)\n",
    "    print(\"Saving figure\", fig_id)\n",
    "    if tight_layout:\n",
    "        plt.tight_layout()\n",
    "    plt.savefig(path, format=fig_extension, dpi=resolution)"
   ]
  },
  {
   "cell_type": "code",
   "execution_count": 81,
   "metadata": {},
   "outputs": [],
   "source": [
    "X = 2 * np.random.rand(100,1)\n",
    "y = 4 + 3 * X + np.random.randn(100,1)"
   ]
  },
  {
   "cell_type": "code",
   "execution_count": 82,
   "metadata": {},
   "outputs": [
    {
     "data": {
      "text/plain": [
       "<matplotlib.collections.PathCollection at 0x126894640>"
      ]
     },
     "execution_count": 82,
     "metadata": {},
     "output_type": "execute_result"
    },
    {
     "data": {
      "image/png": "[encoded data removed]",
      "text/plain": [
       "<Figure size 432x288 with 1 Axes>"
      ]
     },
     "metadata": {
      "needs_background": "light"
     },
     "output_type": "display_data"
    }
   ],
   "source": [
    "plt.scatter(X,y)"
   ]
  },
  {
   "cell_type": "code",
   "execution_count": 83,
   "metadata": {},
   "outputs": [
    {
     "name": "stdout",
     "output_type": "stream",
     "text": [
      "[[4.21509616]\n",
      " [2.77011339]]\n"
     ]
    }
   ],
   "source": [
    "# calculate parameters using normal equation\n",
    "X_b = np.c_[np.ones((100,1)), X] # add x0 to each instance\n",
    "theta_best = np.linalg.inv(X_b.T.dot(X_b)).dot(X_b.T).dot(y)\n",
    "print(theta_best)"
   ]
  },
  {
   "cell_type": "code",
   "execution_count": 84,
   "metadata": {},
   "outputs": [
    {
     "data": {
      "text/plain": [
       "array([[4.21509616],\n",
       "       [9.75532293]])"
      ]
     },
     "execution_count": 84,
     "metadata": {},
     "output_type": "execute_result"
    }
   ],
   "source": [
    "X_new = np.array([[0],[2]])\n",
    "X_new_b = np.c_[np.ones((2,1)), X_new] # add x0 = 1 to each instance\n",
    "y_predict = X_new_b.dot(theta_best)\n",
    "y_predict"
   ]
  },
  {
   "cell_type": "code",
   "execution_count": 85,
   "metadata": {},
   "outputs": [
    {
     "data": {
      "text/plain": [
       "array([[1.        , 0.74908024],\n",
       "       [1.        , 1.90142861],\n",
       "       [1.        , 1.46398788],\n",
       "       [1.        , 1.19731697],\n",
       "       [1.        , 0.31203728],\n",
       "       [1.        , 0.31198904],\n",
       "       [1.        , 0.11616722],\n",
       "       [1.        , 1.73235229],\n",
       "       [1.        , 1.20223002],\n",
       "       [1.        , 1.41614516],\n",
       "       [1.        , 0.04116899],\n",
       "       [1.        , 1.9398197 ],\n",
       "       [1.        , 1.66488528],\n",
       "       [1.        , 0.42467822],\n",
       "       [1.        , 0.36364993],\n",
       "       [1.        , 0.36680902],\n",
       "       [1.        , 0.60848449],\n",
       "       [1.        , 1.04951286],\n",
       "       [1.        , 0.86389004],\n",
       "       [1.        , 0.58245828],\n",
       "       [1.        , 1.22370579],\n",
       "       [1.        , 0.27898772],\n",
       "       [1.        , 0.5842893 ],\n",
       "       [1.        , 0.73272369],\n",
       "       [1.        , 0.91213997],\n",
       "       [1.        , 1.57035192],\n",
       "       [1.        , 0.39934756],\n",
       "       [1.        , 1.02846888],\n",
       "       [1.        , 1.18482914],\n",
       "       [1.        , 0.09290083],\n",
       "       [1.        , 1.2150897 ],\n",
       "       [1.        , 0.34104825],\n",
       "       [1.        , 0.13010319],\n",
       "       [1.        , 1.89777107],\n",
       "       [1.        , 1.93126407],\n",
       "       [1.        , 1.6167947 ],\n",
       "       [1.        , 0.60922754],\n",
       "       [1.        , 0.19534423],\n",
       "       [1.        , 1.36846605],\n",
       "       [1.        , 0.88030499],\n",
       "       [1.        , 0.24407647],\n",
       "       [1.        , 0.99035382],\n",
       "       [1.        , 0.06877704],\n",
       "       [1.        , 1.8186408 ],\n",
       "       [1.        , 0.51755996],\n",
       "       [1.        , 1.32504457],\n",
       "       [1.        , 0.62342215],\n",
       "       [1.        , 1.04013604],\n",
       "       [1.        , 1.09342056],\n",
       "       [1.        , 0.36970891],\n",
       "       [1.        , 1.93916926],\n",
       "       [1.        , 1.55026565],\n",
       "       [1.        , 1.87899788],\n",
       "       [1.        , 1.7896547 ],\n",
       "       [1.        , 1.19579996],\n",
       "       [1.        , 1.84374847],\n",
       "       [1.        , 0.176985  ],\n",
       "       [1.        , 0.39196572],\n",
       "       [1.        , 0.09045458],\n",
       "       [1.        , 0.65066066],\n",
       "       [1.        , 0.77735458],\n",
       "       [1.        , 0.54269806],\n",
       "       [1.        , 1.65747502],\n",
       "       [1.        , 0.71350665],\n",
       "       [1.        , 0.56186902],\n",
       "       [1.        , 1.08539217],\n",
       "       [1.        , 0.28184845],\n",
       "       [1.        , 1.60439396],\n",
       "       [1.        , 0.14910129],\n",
       "       [1.        , 1.97377387],\n",
       "       [1.        , 1.54448954],\n",
       "       [1.        , 0.39743136],\n",
       "       [1.        , 0.01104423],\n",
       "       [1.        , 1.63092286],\n",
       "       [1.        , 1.41371469],\n",
       "       [1.        , 1.45801434],\n",
       "       [1.        , 1.54254069],\n",
       "       [1.        , 0.1480893 ],\n",
       "       [1.        , 0.71693146],\n",
       "       [1.        , 0.23173812],\n",
       "       [1.        , 1.72620685],\n",
       "       [1.        , 1.24659625],\n",
       "       [1.        , 0.66179605],\n",
       "       [1.        , 0.1271167 ],\n",
       "       [1.        , 0.62196464],\n",
       "       [1.        , 0.65036664],\n",
       "       [1.        , 1.45921236],\n",
       "       [1.        , 1.27511494],\n",
       "       [1.        , 1.77442549],\n",
       "       [1.        , 0.94442985],\n",
       "       [1.        , 0.23918849],\n",
       "       [1.        , 1.42648957],\n",
       "       [1.        , 1.5215701 ],\n",
       "       [1.        , 1.1225544 ],\n",
       "       [1.        , 1.54193436],\n",
       "       [1.        , 0.98759119],\n",
       "       [1.        , 1.04546566],\n",
       "       [1.        , 0.85508204],\n",
       "       [1.        , 0.05083825],\n",
       "       [1.        , 0.21578285]])"
      ]
     },
     "execution_count": 85,
     "metadata": {},
     "output_type": "execute_result"
    }
   ],
   "source": [
    "X_b"
   ]
  },
  {
   "cell_type": "code",
   "execution_count": 86,
   "metadata": {},
   "outputs": [
    {
     "data": {
      "image/png": "[encoded data removed]",
      "text/plain": [
       "<Figure size 432x288 with 1 Axes>"
      ]
     },
     "metadata": {
      "needs_background": "light"
     },
     "output_type": "display_data"
    }
   ],
   "source": [
    "plt.plot(X_new, y_predict, \"-r\")\n",
    "plt.plot(X,y, \"b.\")\n",
    "plt.axis([0,2,0,15])\n",
    "plt.show()\n"
   ]
  },
  {
   "cell_type": "markdown",
   "metadata": {},
   "source": [
    "Linear Regression using Batch Gradient Decent"
   ]
  },
  {
   "cell_type": "code",
   "execution_count": 87,
   "metadata": {},
   "outputs": [],
   "source": [
    "eta = 0.1 # learning rate\n",
    "n_iterations = 1000\n",
    "m = 100\n",
    "\n",
    "theta = np.random.randn(2,1)\n"
   ]
  },
  {
   "cell_type": "code",
   "execution_count": 88,
   "metadata": {},
   "outputs": [
    {
     "data": {
      "text/plain": [
       "array([[4.21509616],\n",
       "       [2.77011339]])"
      ]
     },
     "execution_count": 88,
     "metadata": {},
     "output_type": "execute_result"
    }
   ],
   "source": [
    "for iteration in range(n_iterations):\n",
    "    gradients = 2/m * X_b.T.dot(X_b.dot(theta)- y)\n",
    "    theta = theta - gradients * eta\n",
    "theta"
   ]
  },
  {
   "cell_type": "markdown",
   "metadata": {},
   "source": [
    "Linear Regression using Stochastic Gradient Decent  "
   ]
  },
  {
   "cell_type": "code",
   "execution_count": 89,
   "metadata": {},
   "outputs": [
    {
     "data": {
      "text/plain": [
       "array([[4.18549122],\n",
       "       [2.72943325]])"
      ]
     },
     "execution_count": 89,
     "metadata": {},
     "output_type": "execute_result"
    }
   ],
   "source": [
    "n_epochs = 50\n",
    "t0, t1 = 5, 10 # learning schedule hyperparamaters\n",
    "\n",
    "def learning_schedule(t):\n",
    "    return t0/(t+t1)\n",
    "\n",
    "theta = np.random.randn(2,1)\n",
    "\n",
    "for epoch in range (n_epochs):\n",
    "    for i in range(m):\n",
    "        random_index = np.random.randint(m)\n",
    "        xi = X_b[random_index:random_index +1]\n",
    "        yi = y[random_index: random_index+1]\n",
    "        gradients = 2 * xi.T.dot(xi.dot(theta) -yi)\n",
    "        eta = learning_schedule(epoch* m + i)\n",
    "        theta = theta -eta * gradients\n",
    "theta"
   ]
  },
  {
   "cell_type": "markdown",
   "metadata": {},
   "source": [
    "Linear Regression using the scikit-learn implementation of Stochastic Gradient Decent"
   ]
  },
  {
   "cell_type": "code",
   "execution_count": 90,
   "metadata": {},
   "outputs": [
    {
     "data": {
      "text/plain": [
       "SGDRegressor(eta0=0.1, penalty=None)"
      ]
     },
     "execution_count": 90,
     "metadata": {},
     "output_type": "execute_result"
    }
   ],
   "source": [
    "from sklearn.linear_model import SGDRegressor\n",
    "\n",
    "sdg_reg = SGDRegressor(max_iter = 1000, penalty = None, eta0=0.1)\n",
    "sdg_reg.fit(X, y.ravel())"
   ]
  },
  {
   "cell_type": "code",
   "execution_count": 91,
   "metadata": {},
   "outputs": [
    {
     "data": {
      "text/plain": [
       "(array([4.22609703]), array([2.79227913]))"
      ]
     },
     "execution_count": 91,
     "metadata": {},
     "output_type": "execute_result"
    }
   ],
   "source": [
    "sdg_reg.intercept_,sdg_reg.coef_"
   ]
  },
  {
   "cell_type": "markdown",
   "metadata": {},
   "source": [
    "Polynomial Regression"
   ]
  },
  {
   "cell_type": "code",
   "execution_count": 102,
   "metadata": {},
   "outputs": [],
   "source": [
    "m = 100\n",
    "X = 6 * np.random.rand(m, 1) - 3\n",
    "y = 0.5 * X**2 + X + 2 + np.random.randn(m, 1)"
   ]
  },
  {
   "cell_type": "code",
   "execution_count": 103,
   "metadata": {},
   "outputs": [
    {
     "name": "stdout",
     "output_type": "stream",
     "text": [
      "Saving figure quadratic_data_plot\n"
     ]
    },
    {
     "data": {
      "image/png": "[encoded data removed]",
      "text/plain": [
       "<Figure size 432x288 with 1 Axes>"
      ]
     },
     "metadata": {
      "needs_background": "light"
     },
     "output_type": "display_data"
    }
   ],
   "source": [
    "plt.plot(X, y, \"b.\")\n",
    "plt.xlabel(\"$x_1$\", fontsize=18)\n",
    "plt.ylabel(\"$y$\", rotation=0, fontsize=18)\n",
    "plt.axis([-3, 3, 0, 10])\n",
    "save_fig(\"quadratic_data_plot\")\n",
    "plt.show()"
   ]
  },
  {
   "cell_type": "code",
   "execution_count": 120,
   "metadata": {},
   "outputs": [
    {
     "name": "stdout",
     "output_type": "stream",
     "text": [
      "Original value: [-2.07304678] and transformed values: [-2.07304678e+00  4.29752294e+00 -8.90896607e+00  1.84687034e+01\n",
      " -3.82864860e+01  7.93696764e+01 -1.64537052e+02  3.41093005e+02\n",
      " -7.07101753e+02  1.46585501e+03 -3.03878600e+03  6.29954553e+03\n",
      " -1.30592525e+04  2.70724414e+04 -5.61224373e+04  1.16344438e+05\n",
      " -2.41187462e+05  4.99992890e+05 -1.03650865e+06  2.14873091e+06\n",
      " -4.45441969e+06  9.23422037e+06 -1.91429708e+07  3.96842738e+07\n",
      " -8.22673559e+07  1.70544077e+08 -3.53545849e+08  7.32917082e+08\n",
      " -1.51937139e+09  3.14972797e+09 -6.52953341e+09  1.35360282e+10\n",
      " -2.80608196e+10  5.81713916e+10 -1.20592016e+11  2.49992890e+11\n",
      " -5.18246954e+11  1.07435018e+12 -2.22717817e+12  4.61704453e+12\n",
      " -9.57134927e+12  1.98418547e+13 -4.11330930e+13  8.52708258e+13\n",
      " -1.76770411e+14  3.66453330e+14 -7.59674894e+14  1.57484159e+15\n",
      " -3.26472028e+15  6.76791785e+15]\n"
     ]
    }
   ],
   "source": [
    "from sklearn.preprocessing import PolynomialFeatures\n",
    "poly_features_high_degree = PolynomialFeatures(degree=50, include_bias=False)\n",
    "X_poly_high = poly_features_high_degree.fit_transform(X)\n",
    "print(f\"Original value: {X[0]} and transformed values: {X_poly_high[0]}\")\n",
    "\n",
    "poly_features_quadratic = PolynomialFeatures(degree = 2,include_bias= False)\n",
    "X_poly_quadratic = poly_features_quadratic.fit_transform(X)\n"
   ]
  },
  {
   "cell_type": "code",
   "execution_count": 121,
   "metadata": {},
   "outputs": [
    {
     "data": {
      "text/plain": [
       "LinearRegression()"
      ]
     },
     "execution_count": 121,
     "metadata": {},
     "output_type": "execute_result"
    }
   ],
   "source": [
    "from sklearn.linear_model import LinearRegression\n",
    "\n",
    "lin_reg_high = LinearRegression()\n",
    "lin_reg_high.fit(X_poly_high, y)\n",
    "lin_reg_high.intercept_, lin_reg_high.coef_\n",
    "\n",
    "linear_reg_quad = LinearRegression()\n",
    "linear_reg_quad.fit(X_poly_quadratic,y)\n"
   ]
  },
  {
   "cell_type": "code",
   "execution_count": 117,
   "metadata": {},
   "outputs": [
    {
     "data": {
      "text/plain": [
       "LinearRegression()"
      ]
     },
     "execution_count": 117,
     "metadata": {},
     "output_type": "execute_result"
    }
   ],
   "source": [
    "linear_reg = LinearRegression()\n",
    "linear_reg.fit(X,y)"
   ]
  },
  {
   "cell_type": "code",
   "execution_count": 124,
   "metadata": {},
   "outputs": [
    {
     "name": "stdout",
     "output_type": "stream",
     "text": [
      "Saving figure quadratic_predictions_plot\n"
     ]
    },
    {
     "data": {
      "image/png": "[encoded data removed]",
      "text/plain": [
       "<Figure size 432x288 with 1 Axes>"
      ]
     },
     "metadata": {
      "needs_background": "light"
     },
     "output_type": "display_data"
    }
   ],
   "source": [
    "X_new=np.linspace(-3, 3, 100).reshape(100, 1)\n",
    "X_poly_high = poly_features_high_degree.transform(X_new)\n",
    "y_high = lin_reg_high.predict(X_poly_high)\n",
    "y_linear = linear_reg.predict(X)\n",
    "X_poly_quad = poly_features_quadratic.transform(X_new)\n",
    "y_quad = linear_reg_quad.predict(X_poly_quad )\n",
    "\n",
    "\n",
    "plt.plot(X, y, \"b.\")\n",
    "plt.plot(X_new, y_high, \"r-\", linewidth=2, label=\"Prediction high-degree\")\n",
    "plt.plot(X_new, y_quad, \"y-\",linewidth =2, label = \"Prediction quadratic\" )\n",
    "plt.plot(X, y_linear, \"g-\", linewidth =2, label = \"Prediction linear\")\n",
    "plt.xlabel(\"$x_1$\", fontsize=18)\n",
    "plt.ylabel(\"$y$\", rotation=0, fontsize=18)\n",
    "plt.legend(loc=\"upper left\", fontsize=14)\n",
    "plt.axis([-3, 3, 0, 10])\n",
    "save_fig(\"quadratic_predictions_plot\")\n",
    "plt.show()"
   ]
  },
  {
   "cell_type": "markdown",
   "metadata": {},
   "source": [
    "Checking if the model is overfitting/underfitting using learning curves"
   ]
  },
  {
   "cell_type": "code",
   "execution_count": 127,
   "metadata": {},
   "outputs": [],
   "source": [
    "from sklearn.metrics import mean_squared_error\n",
    "from sklearn.model_selection import train_test_split\n",
    "\n",
    "def plot_learning_curves(model, X, y):\n",
    "    X_train, X_val, y_train, y_val = train_test_split(X, y, test_size=0.2, random_state=10)\n",
    "    train_errors, val_errors = [], []\n",
    "    for m in range(1, len(X_train) + 1):\n",
    "        model.fit(X_train[:m], y_train[:m])\n",
    "        y_train_predict = model.predict(X_train[:m])\n",
    "        y_val_predict = model.predict(X_val)\n",
    "        train_errors.append(mean_squared_error(y_train[:m], y_train_predict))\n",
    "        val_errors.append(mean_squared_error(y_val, y_val_predict))\n",
    "\n",
    "    plt.plot(np.sqrt(train_errors), \"r-+\", linewidth=2, label=\"train\")\n",
    "    plt.plot(np.sqrt(val_errors), \"b-\", linewidth=3, label=\"val\")\n",
    "    plt.legend(loc=\"upper right\", fontsize=14)   # not shown in the book\n",
    "    plt.xlabel(\"Training set size\", fontsize=14) # not shown\n",
    "    plt.ylabel(\"RMSE\", fontsize=14)              # not shown\n",
    "\n"
   ]
  },
  {
   "cell_type": "code",
   "execution_count": 128,
   "metadata": {},
   "outputs": [
    {
     "data": {
      "image/png": "[encoded data removed]",
      "text/plain": [
       "<Figure size 432x288 with 1 Axes>"
      ]
     },
     "metadata": {
      "needs_background": "light"
     },
     "output_type": "display_data"
    }
   ],
   "source": [
    "lin_reg = LinearRegression()\n",
    "plot_learning_curves(lin_reg, X, y)"
   ]
  },
  {
   "cell_type": "code",
   "execution_count": 134,
   "metadata": {},
   "outputs": [
    {
     "data": {
      "image/png": "[encoded data removed]",
      "text/plain": [
       "<Figure size 432x288 with 1 Axes>"
      ]
     },
     "metadata": {
      "needs_background": "light"
     },
     "output_type": "display_data"
    }
   ],
   "source": [
    "from sklearn.pipeline import Pipeline\n",
    "\n",
    "polynomial_regression = Pipeline((\n",
    "    (\"poly_features\", PolynomialFeatures(degree =2, include_bias=False)),\n",
    "    (\"sgd_reg\", LinearRegression())\n",
    "))\n",
    "\n",
    "plot_learning_curves(polynomial_regression, X, y)"
   ]
  },
  {
   "cell_type": "markdown",
   "metadata": {},
   "source": [
    "Ridge Regression (Regression with Regularisation (L2 norm half the square of weight vectors))"
   ]
  },
  {
   "cell_type": "code",
   "execution_count": 136,
   "metadata": {},
   "outputs": [
    {
     "data": {
      "text/plain": [
       "array([[4.93286388]])"
      ]
     },
     "execution_count": 136,
     "metadata": {},
     "output_type": "execute_result"
    }
   ],
   "source": [
    "from sklearn.linear_model import Ridge\n",
    "ridge_reg = Ridge(alpha = 1, solver = \"cholesky\")\n",
    "ridge_reg.fit(X,y)\n",
    "ridge_reg.predict([[1.5]])"
   ]
  },
  {
   "cell_type": "code",
   "execution_count": 137,
   "metadata": {},
   "outputs": [
    {
     "name": "stderr",
     "output_type": "stream",
     "text": [
      "/usr/local/lib/python3.9/site-packages/sklearn/utils/validation.py:993: DataConversionWarning: A column-vector y was passed when a 1d array was expected. Please change the shape of y to (n_samples, ), for example using ravel().\n",
      "  y = column_or_1d(y, warn=True)\n"
     ]
    },
    {
     "data": {
      "text/plain": [
       "array([4.90790394])"
      ]
     },
     "execution_count": 137,
     "metadata": {},
     "output_type": "execute_result"
    }
   ],
   "source": [
    "sdg_reg = SGDRegressor()\n",
    "sdg_reg.fit(X,y)\n",
    "sdg_reg.predict([[1.5]])\n"
   ]
  }
 ],
 "metadata": {
  "interpreter": {
   "hash": "aee8b7b246df8f9039afb4144a1f6fd8d2ca17a180786b69acc140d282b71a49"
  },
  "kernelspec": {
   "display_name": "Python 3.9.10 64-bit",
   "language": "python",
   "name": "python3"
  },
  "language_info": {
   "codemirror_mode": {
    "name": "ipython",
    "version": 3
   },
   "file_extension": ".py",
   "mimetype": "text/x-python",
   "name": "python",
   "nbconvert_exporter": "python",
   "pygments_lexer": "ipython3",
   "version": "3.9.10"
  },
  "orig_nbformat": 4
 },
 "nbformat": 4,
 "nbformat_minor": 2
}
