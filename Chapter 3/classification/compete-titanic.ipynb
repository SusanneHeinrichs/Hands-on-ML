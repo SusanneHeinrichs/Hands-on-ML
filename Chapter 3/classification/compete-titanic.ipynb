{
 "cells": [
  {
   "cell_type": "code",
   "execution_count": 1,
   "metadata": {
    "_cell_guid": "b1076dfc-b9ad-4769-8c92-a6c4dae69d19",
    "_uuid": "8f2839f25d086af736a60e9eeb907d3b93b6e0e5",
    "execution": {
     "iopub.execute_input": "2022-02-03T11:03:28.644759Z",
     "iopub.status.busy": "2022-02-03T11:03:28.644070Z",
     "iopub.status.idle": "2022-02-03T11:03:29.533363Z",
     "shell.execute_reply": "2022-02-03T11:03:29.532652Z",
     "shell.execute_reply.started": "2022-02-03T10:13:21.716722Z"
    },
    "papermill": {
     "duration": 0.933528,
     "end_time": "2022-02-03T11:03:29.533512",
     "exception": false,
     "start_time": "2022-02-03T11:03:28.599984",
     "status": "completed"
    },
    "tags": []
   },
   "outputs": [
    {
     "name": "stdout",
     "output_type": "stream",
     "text": [
      "/kaggle/input/titanic/train.csv\n",
      "/kaggle/input/titanic/test.csv\n",
      "/kaggle/input/titanic/gender_submission.csv\n"
     ]
    }
   ],
   "source": [
    "# This Python 3 environment comes with many helpful analytics libraries installed\n",
    "# It is defined by the kaggle/python Docker image: https://github.com/kaggle/docker-python\n",
    "# For example, here's several helpful packages to load\n",
    "\n",
    "import numpy as np # linear algebra\n",
    "import pandas as pd # data processing, CSV file I/O (e.g. pd.read_csv)\n",
    "import seaborn as sns\n",
    "import matplotlib.pyplot as plt\n",
    "\n",
    "from sklearn.linear_model import LinearRegression\n",
    "# Input data files are available in the read-only \"../input/\" directory\n",
    "# For example, running this (by clicking run or pressing Shift+Enter) will list all files under the input directory\n",
    "\n",
    "import os\n",
    "for dirname, _, filenames in os.walk('/kaggle/input'):\n",
    "    for filename in filenames:\n",
    "        print(os.path.join(dirname, filename))\n",
    "\n",
    "# You can write up to 20GB to the current directory (/kaggle/working/) that gets preserved as output when you create a version using \"Save & Run All\" \n",
    "# You can also write temporary files to /kaggle/temp/, but they won't be saved outside of the current session"
   ]
  },
  {
   "cell_type": "code",
   "execution_count": 2,
   "metadata": {
    "_cell_guid": "79c7e3d0-c299-4dcb-8224-4455121ee9b0",
    "_uuid": "d629ff2d2480ee46fbb7e2d37f6b5fab8052498a",
    "execution": {
     "iopub.execute_input": "2022-02-03T11:03:29.622786Z",
     "iopub.status.busy": "2022-02-03T11:03:29.622118Z",
     "iopub.status.idle": "2022-02-03T11:03:29.658667Z",
     "shell.execute_reply": "2022-02-03T11:03:29.658171Z",
     "shell.execute_reply.started": "2022-02-03T10:52:10.356525Z"
    },
    "papermill": {
     "duration": 0.083721,
     "end_time": "2022-02-03T11:03:29.658768",
     "exception": false,
     "start_time": "2022-02-03T11:03:29.575047",
     "status": "completed"
    },
    "tags": []
   },
   "outputs": [
    {
     "data": {
      "text/html": [
       "<div>\n",
       "<style scoped>\n",
       "    .dataframe tbody tr th:only-of-type {\n",
       "        vertical-align: middle;\n",
       "    }\n",
       "\n",
       "    .dataframe tbody tr th {\n",
       "        vertical-align: top;\n",
       "    }\n",
       "\n",
       "    .dataframe thead th {\n",
       "        text-align: right;\n",
       "    }\n",
       "</style>\n",
       "<table border=\"1\" class=\"dataframe\">\n",
       "  <thead>\n",
       "    <tr style=\"text-align: right;\">\n",
       "      <th></th>\n",
       "      <th>PassengerId</th>\n",
       "      <th>Survived</th>\n",
       "      <th>Pclass</th>\n",
       "      <th>Name</th>\n",
       "      <th>Sex</th>\n",
       "      <th>Age</th>\n",
       "      <th>SibSp</th>\n",
       "      <th>Parch</th>\n",
       "      <th>Ticket</th>\n",
       "      <th>Fare</th>\n",
       "      <th>Cabin</th>\n",
       "      <th>Embarked</th>\n",
       "    </tr>\n",
       "  </thead>\n",
       "  <tbody>\n",
       "    <tr>\n",
       "      <th>0</th>\n",
       "      <td>1</td>\n",
       "      <td>0</td>\n",
       "      <td>3</td>\n",
       "      <td>Braund, Mr. Owen Harris</td>\n",
       "      <td>male</td>\n",
       "      <td>22.0</td>\n",
       "      <td>1</td>\n",
       "      <td>0</td>\n",
       "      <td>A/5 21171</td>\n",
       "      <td>7.2500</td>\n",
       "      <td>NaN</td>\n",
       "      <td>S</td>\n",
       "    </tr>\n",
       "    <tr>\n",
       "      <th>1</th>\n",
       "      <td>2</td>\n",
       "      <td>1</td>\n",
       "      <td>1</td>\n",
       "      <td>Cumings, Mrs. John Bradley (Florence Briggs Th...</td>\n",
       "      <td>female</td>\n",
       "      <td>38.0</td>\n",
       "      <td>1</td>\n",
       "      <td>0</td>\n",
       "      <td>PC 17599</td>\n",
       "      <td>71.2833</td>\n",
       "      <td>C85</td>\n",
       "      <td>C</td>\n",
       "    </tr>\n",
       "    <tr>\n",
       "      <th>2</th>\n",
       "      <td>3</td>\n",
       "      <td>1</td>\n",
       "      <td>3</td>\n",
       "      <td>Heikkinen, Miss. Laina</td>\n",
       "      <td>female</td>\n",
       "      <td>26.0</td>\n",
       "      <td>0</td>\n",
       "      <td>0</td>\n",
       "      <td>STON/O2. 3101282</td>\n",
       "      <td>7.9250</td>\n",
       "      <td>NaN</td>\n",
       "      <td>S</td>\n",
       "    </tr>\n",
       "    <tr>\n",
       "      <th>3</th>\n",
       "      <td>4</td>\n",
       "      <td>1</td>\n",
       "      <td>1</td>\n",
       "      <td>Futrelle, Mrs. Jacques Heath (Lily May Peel)</td>\n",
       "      <td>female</td>\n",
       "      <td>35.0</td>\n",
       "      <td>1</td>\n",
       "      <td>0</td>\n",
       "      <td>113803</td>\n",
       "      <td>53.1000</td>\n",
       "      <td>C123</td>\n",
       "      <td>S</td>\n",
       "    </tr>\n",
       "    <tr>\n",
       "      <th>4</th>\n",
       "      <td>5</td>\n",
       "      <td>0</td>\n",
       "      <td>3</td>\n",
       "      <td>Allen, Mr. William Henry</td>\n",
       "      <td>male</td>\n",
       "      <td>35.0</td>\n",
       "      <td>0</td>\n",
       "      <td>0</td>\n",
       "      <td>373450</td>\n",
       "      <td>8.0500</td>\n",
       "      <td>NaN</td>\n",
       "      <td>S</td>\n",
       "    </tr>\n",
       "  </tbody>\n",
       "</table>\n",
       "</div>"
      ],
      "text/plain": [
       "   PassengerId  Survived  Pclass  \\\n",
       "0            1         0       3   \n",
       "1            2         1       1   \n",
       "2            3         1       3   \n",
       "3            4         1       1   \n",
       "4            5         0       3   \n",
       "\n",
       "                                                Name     Sex   Age  SibSp  \\\n",
       "0                            Braund, Mr. Owen Harris    male  22.0      1   \n",
       "1  Cumings, Mrs. John Bradley (Florence Briggs Th...  female  38.0      1   \n",
       "2                             Heikkinen, Miss. Laina  female  26.0      0   \n",
       "3       Futrelle, Mrs. Jacques Heath (Lily May Peel)  female  35.0      1   \n",
       "4                           Allen, Mr. William Henry    male  35.0      0   \n",
       "\n",
       "   Parch            Ticket     Fare Cabin Embarked  \n",
       "0      0         A/5 21171   7.2500   NaN        S  \n",
       "1      0          PC 17599  71.2833   C85        C  \n",
       "2      0  STON/O2. 3101282   7.9250   NaN        S  \n",
       "3      0            113803  53.1000  C123        S  \n",
       "4      0            373450   8.0500   NaN        S  "
      ]
     },
     "execution_count": 2,
     "metadata": {},
     "output_type": "execute_result"
    }
   ],
   "source": [
    "train_data = pd.read_csv(\"/kaggle/input/titanic/train.csv\")\n",
    "test_data = pd.read_csv(\"/kaggle/input/titanic/test.csv\")\n",
    "train_data.head()\n"
   ]
  },
  {
   "cell_type": "code",
   "execution_count": 3,
   "metadata": {
    "execution": {
     "iopub.execute_input": "2022-02-03T11:03:29.715555Z",
     "iopub.status.busy": "2022-02-03T11:03:29.715038Z",
     "iopub.status.idle": "2022-02-03T11:03:29.719704Z",
     "shell.execute_reply": "2022-02-03T11:03:29.720168Z",
     "shell.execute_reply.started": "2022-02-02T14:21:00.568291Z"
    },
    "papermill": {
     "duration": 0.034309,
     "end_time": "2022-02-03T11:03:29.720281",
     "exception": false,
     "start_time": "2022-02-03T11:03:29.685972",
     "status": "completed"
    },
    "tags": []
   },
   "outputs": [
    {
     "data": {
      "text/plain": [
       "(891, 12)"
      ]
     },
     "execution_count": 3,
     "metadata": {},
     "output_type": "execute_result"
    }
   ],
   "source": [
    "train_data.shape"
   ]
  },
  {
   "cell_type": "markdown",
   "metadata": {
    "papermill": {
     "duration": 0.027106,
     "end_time": "2022-02-03T11:03:29.774711",
     "exception": false,
     "start_time": "2022-02-03T11:03:29.747605",
     "status": "completed"
    },
    "tags": []
   },
   "source": [
    "# Data Exploration "
   ]
  },
  {
   "cell_type": "code",
   "execution_count": 4,
   "metadata": {
    "execution": {
     "iopub.execute_input": "2022-02-03T11:03:29.832594Z",
     "iopub.status.busy": "2022-02-03T11:03:29.832092Z",
     "iopub.status.idle": "2022-02-03T11:03:29.952486Z",
     "shell.execute_reply": "2022-02-03T11:03:29.951839Z",
     "shell.execute_reply.started": "2022-02-02T14:21:00.575557Z"
    },
    "papermill": {
     "duration": 0.150378,
     "end_time": "2022-02-03T11:03:29.952620",
     "exception": false,
     "start_time": "2022-02-03T11:03:29.802242",
     "status": "completed"
    },
    "tags": []
   },
   "outputs": [
    {
     "data": {
      "image/png": "[encoded data removed]",
      "text/plain": [
       "<Figure size 432x288 with 1 Axes>"
      ]
     },
     "metadata": {
      "needs_background": "light"
     },
     "output_type": "display_data"
    }
   ],
   "source": [
    "# How many passengers survived/died?\n",
    "\n",
    "sns.countplot(train_data.Survived)\n",
    "plt.show()"
   ]
  },
  {
   "cell_type": "markdown",
   "metadata": {
    "papermill": {
     "duration": 0.04269,
     "end_time": "2022-02-03T11:03:30.038474",
     "exception": false,
     "start_time": "2022-02-03T11:03:29.995784",
     "status": "completed"
    },
    "tags": []
   },
   "source": [
    "### Investigate sex"
   ]
  },
  {
   "cell_type": "code",
   "execution_count": 5,
   "metadata": {
    "execution": {
     "iopub.execute_input": "2022-02-03T11:03:30.127306Z",
     "iopub.status.busy": "2022-02-03T11:03:30.126621Z",
     "iopub.status.idle": "2022-02-03T11:03:30.161989Z",
     "shell.execute_reply": "2022-02-03T11:03:30.161542Z",
     "shell.execute_reply.started": "2022-02-02T14:41:47.870453Z"
    },
    "papermill": {
     "duration": 0.08047,
     "end_time": "2022-02-03T11:03:30.162093",
     "exception": false,
     "start_time": "2022-02-03T11:03:30.081623",
     "status": "completed"
    },
    "tags": []
   },
   "outputs": [
    {
     "data": {
      "text/plain": [
       "female    0.543351\n",
       "male     -0.543351\n",
       "dtype: float64"
      ]
     },
     "execution_count": 5,
     "metadata": {},
     "output_type": "execute_result"
    }
   ],
   "source": [
    "train_data['Sex'].str.get_dummies().corrwith(train_data['Survived']/train_data['Survived'].max())\n"
   ]
  },
  {
   "cell_type": "markdown",
   "metadata": {
    "papermill": {
     "duration": 0.027613,
     "end_time": "2022-02-03T11:03:30.217752",
     "exception": false,
     "start_time": "2022-02-03T11:03:30.190139",
     "status": "completed"
    },
    "tags": []
   },
   "source": [
    "There is a moderate positive correlation between being a female passengers and surviving whilst there is a moderate negative correaltion between being a male and surviving."
   ]
  },
  {
   "cell_type": "code",
   "execution_count": 6,
   "metadata": {
    "execution": {
     "iopub.execute_input": "2022-02-03T11:03:30.275892Z",
     "iopub.status.busy": "2022-02-03T11:03:30.275236Z",
     "iopub.status.idle": "2022-02-03T11:03:30.483510Z",
     "shell.execute_reply": "2022-02-03T11:03:30.483023Z",
     "shell.execute_reply.started": "2022-02-02T14:21:00.739311Z"
    },
    "papermill": {
     "duration": 0.237943,
     "end_time": "2022-02-03T11:03:30.483604",
     "exception": false,
     "start_time": "2022-02-03T11:03:30.245661",
     "status": "completed"
    },
    "tags": []
   },
   "outputs": [
    {
     "data": {
      "text/plain": [
       "<seaborn.axisgrid.FacetGrid at 0x7fe149dc2a50>"
      ]
     },
     "execution_count": 6,
     "metadata": {},
     "output_type": "execute_result"
    },
    {
     "data": {
      "image/png": "[encoded data removed]",
      "text/plain": [
       "<Figure size 502.5x432 with 1 Axes>"
      ]
     },
     "metadata": {
      "needs_background": "light"
     },
     "output_type": "display_data"
    }
   ],
   "source": [
    "# Draw a nested barplot by survived and sex\n",
    "g = sns.catplot(\n",
    "    data=train_data, kind=\"count\",\n",
    "    x=\"Survived\", hue=\"Sex\",\n",
    "    ci=\"sd\", alpha=.6, height=6\n",
    ")\n",
    "g.despine(left=True)"
   ]
  },
  {
   "cell_type": "code",
   "execution_count": 7,
   "metadata": {
    "execution": {
     "iopub.execute_input": "2022-02-03T11:03:30.547919Z",
     "iopub.status.busy": "2022-02-03T11:03:30.547213Z",
     "iopub.status.idle": "2022-02-03T11:03:30.552339Z",
     "shell.execute_reply": "2022-02-03T11:03:30.552929Z",
     "shell.execute_reply.started": "2022-02-02T14:45:39.191998Z"
    },
    "papermill": {
     "duration": 0.041012,
     "end_time": "2022-02-03T11:03:30.553072",
     "exception": false,
     "start_time": "2022-02-03T11:03:30.512060",
     "status": "completed"
    },
    "tags": []
   },
   "outputs": [
    {
     "data": {
      "text/plain": [
       "PassengerId   -0.005007\n",
       "Survived       1.000000\n",
       "Pclass        -0.338481\n",
       "Age           -0.077221\n",
       "SibSp         -0.035322\n",
       "Parch          0.081629\n",
       "Fare           0.257307\n",
       "Name: Survived, dtype: float64"
      ]
     },
     "execution_count": 7,
     "metadata": {},
     "output_type": "execute_result"
    }
   ],
   "source": [
    "#get correlation between survived and remaining numerical features\n",
    "train_data.corr()['Survived']"
   ]
  },
  {
   "cell_type": "markdown",
   "metadata": {
    "papermill": {
     "duration": 0.04467,
     "end_time": "2022-02-03T11:03:30.642622",
     "exception": false,
     "start_time": "2022-02-03T11:03:30.597952",
     "status": "completed"
    },
    "tags": []
   },
   "source": [
    "According to the table above there is a weak negative correlation between Pclass, Fare and Survived"
   ]
  },
  {
   "cell_type": "code",
   "execution_count": 8,
   "metadata": {
    "execution": {
     "iopub.execute_input": "2022-02-03T11:03:30.736467Z",
     "iopub.status.busy": "2022-02-03T11:03:30.735512Z",
     "iopub.status.idle": "2022-02-03T11:03:31.160413Z",
     "shell.execute_reply": "2022-02-03T11:03:31.161324Z",
     "shell.execute_reply.started": "2022-02-02T14:21:00.998179Z"
    },
    "papermill": {
     "duration": 0.473567,
     "end_time": "2022-02-03T11:03:31.161609",
     "exception": false,
     "start_time": "2022-02-03T11:03:30.688042",
     "status": "completed"
    },
    "tags": []
   },
   "outputs": [
    {
     "data": {
      "image/png": "[encoded data removed]",
      "text/plain": [
       "<Figure size 432x288 with 1 Axes>"
      ]
     },
     "metadata": {
      "needs_background": "light"
     },
     "output_type": "display_data"
    }
   ],
   "source": [
    "#Distribution by age, gender and Sex\n",
    "ax = sns.swarmplot(data=train_data, x=\"Age\", y=\"Sex\", hue=\"Survived\")"
   ]
  },
  {
   "cell_type": "code",
   "execution_count": 9,
   "metadata": {
    "execution": {
     "iopub.execute_input": "2022-02-03T11:03:31.257183Z",
     "iopub.status.busy": "2022-02-03T11:03:31.256287Z",
     "iopub.status.idle": "2022-02-03T11:03:31.514192Z",
     "shell.execute_reply": "2022-02-03T11:03:31.514796Z",
     "shell.execute_reply.started": "2022-02-02T14:21:01.705128Z"
    },
    "papermill": {
     "duration": 0.307019,
     "end_time": "2022-02-03T11:03:31.514953",
     "exception": false,
     "start_time": "2022-02-03T11:03:31.207934",
     "status": "completed"
    },
    "tags": []
   },
   "outputs": [
    {
     "data": {
      "image/png": "[encoded data removed]",
      "text/plain": [
       "<Figure size 483.875x432 with 1 Axes>"
      ]
     },
     "metadata": {
      "needs_background": "light"
     },
     "output_type": "display_data"
    }
   ],
   "source": [
    "g = sns.catplot(\n",
    "    data=train_data, kind=\"count\",\n",
    "    x=\"Embarked\", hue=\"Survived\",\n",
    "    ci=\"sd\", alpha=.6, height=6\n",
    ")"
   ]
  },
  {
   "cell_type": "code",
   "execution_count": 10,
   "metadata": {
    "execution": {
     "iopub.execute_input": "2022-02-03T11:03:31.618032Z",
     "iopub.status.busy": "2022-02-03T11:03:31.617292Z",
     "iopub.status.idle": "2022-02-03T11:03:31.798268Z",
     "shell.execute_reply": "2022-02-03T11:03:31.798760Z",
     "shell.execute_reply.started": "2022-02-02T14:21:02.037069Z"
    },
    "papermill": {
     "duration": 0.236122,
     "end_time": "2022-02-03T11:03:31.798888",
     "exception": false,
     "start_time": "2022-02-03T11:03:31.562766",
     "status": "completed"
    },
    "tags": []
   },
   "outputs": [
    {
     "data": {
      "image/png": "[encoded data removed]",
      "text/plain": [
       "<Figure size 483.875x432 with 1 Axes>"
      ]
     },
     "metadata": {
      "needs_background": "light"
     },
     "output_type": "display_data"
    }
   ],
   "source": [
    "g = sns.catplot(\n",
    "    data=train_data, kind=\"count\",\n",
    "    x=\"Pclass\", hue=\"Survived\",\n",
    "    ci=\"sd\", alpha=.6, height=6\n",
    ")"
   ]
  },
  {
   "cell_type": "code",
   "execution_count": 11,
   "metadata": {
    "execution": {
     "iopub.execute_input": "2022-02-03T11:03:31.868716Z",
     "iopub.status.busy": "2022-02-03T11:03:31.868157Z",
     "iopub.status.idle": "2022-02-03T11:03:32.028674Z",
     "shell.execute_reply": "2022-02-03T11:03:32.028221Z",
     "shell.execute_reply.started": "2022-02-02T14:21:02.280140Z"
    },
    "papermill": {
     "duration": 0.198521,
     "end_time": "2022-02-03T11:03:32.028777",
     "exception": false,
     "start_time": "2022-02-03T11:03:31.830256",
     "status": "completed"
    },
    "tags": []
   },
   "outputs": [
    {
     "data": {
      "text/plain": [
       "<matplotlib.axes._subplots.AxesSubplot at 0x7fe1462cf110>"
      ]
     },
     "execution_count": 11,
     "metadata": {},
     "output_type": "execute_result"
    },
    {
     "data": {
      "image/png": "[encoded data removed]",
      "text/plain": [
       "<Figure size 432x288 with 1 Axes>"
      ]
     },
     "metadata": {
      "needs_background": "light"
     },
     "output_type": "display_data"
    }
   ],
   "source": [
    "sns.scatterplot(data = train_data, x=\"Fare\", y=\"Age\",\n",
    "                hue=\"Survived\")"
   ]
  },
  {
   "cell_type": "markdown",
   "metadata": {
    "papermill": {
     "duration": 0.037494,
     "end_time": "2022-02-03T11:03:32.099410",
     "exception": false,
     "start_time": "2022-02-03T11:03:32.061916",
     "status": "completed"
    },
    "tags": []
   },
   "source": [
    "# Data cleaning "
   ]
  },
  {
   "cell_type": "markdown",
   "metadata": {
    "papermill": {
     "duration": 0.048599,
     "end_time": "2022-02-03T11:03:32.196564",
     "exception": false,
     "start_time": "2022-02-03T11:03:32.147965",
     "status": "completed"
    },
    "tags": []
   },
   "source": [
    "Handle missing values"
   ]
  },
  {
   "cell_type": "code",
   "execution_count": 12,
   "metadata": {
    "execution": {
     "iopub.execute_input": "2022-02-03T11:03:32.319346Z",
     "iopub.status.busy": "2022-02-03T11:03:32.313767Z",
     "iopub.status.idle": "2022-02-03T11:03:32.324887Z",
     "shell.execute_reply": "2022-02-03T11:03:32.325302Z",
     "shell.execute_reply.started": "2022-02-03T10:52:19.035670Z"
    },
    "papermill": {
     "duration": 0.077529,
     "end_time": "2022-02-03T11:03:32.325441",
     "exception": false,
     "start_time": "2022-02-03T11:03:32.247912",
     "status": "completed"
    },
    "tags": []
   },
   "outputs": [
    {
     "name": "stdout",
     "output_type": "stream",
     "text": [
      "Cabin          77.1\n",
      "Age            19.9\n",
      "Embarked        0.2\n",
      "Fare            0.0\n",
      "Ticket          0.0\n",
      "Parch           0.0\n",
      "SibSp           0.0\n",
      "Sex             0.0\n",
      "Name            0.0\n",
      "Pclass          0.0\n",
      "Survived        0.0\n",
      "PassengerId     0.0\n",
      "dtype: float64\n",
      "\n",
      "Age, Fare and Embarked has missing values\n",
      "Find passengers with missing values for Embarked:\n"
     ]
    },
    {
     "data": {
      "text/html": [
       "<div>\n",
       "<style scoped>\n",
       "    .dataframe tbody tr th:only-of-type {\n",
       "        vertical-align: middle;\n",
       "    }\n",
       "\n",
       "    .dataframe tbody tr th {\n",
       "        vertical-align: top;\n",
       "    }\n",
       "\n",
       "    .dataframe thead th {\n",
       "        text-align: right;\n",
       "    }\n",
       "</style>\n",
       "<table border=\"1\" class=\"dataframe\">\n",
       "  <thead>\n",
       "    <tr style=\"text-align: right;\">\n",
       "      <th></th>\n",
       "      <th>PassengerId</th>\n",
       "      <th>Survived</th>\n",
       "      <th>Pclass</th>\n",
       "      <th>Name</th>\n",
       "      <th>Sex</th>\n",
       "      <th>Age</th>\n",
       "      <th>SibSp</th>\n",
       "      <th>Parch</th>\n",
       "      <th>Ticket</th>\n",
       "      <th>Fare</th>\n",
       "      <th>Cabin</th>\n",
       "      <th>Embarked</th>\n",
       "    </tr>\n",
       "  </thead>\n",
       "  <tbody>\n",
       "    <tr>\n",
       "      <th>61</th>\n",
       "      <td>62</td>\n",
       "      <td>1</td>\n",
       "      <td>1</td>\n",
       "      <td>Icard, Miss. Amelie</td>\n",
       "      <td>female</td>\n",
       "      <td>38.0</td>\n",
       "      <td>0</td>\n",
       "      <td>0</td>\n",
       "      <td>113572</td>\n",
       "      <td>80.0</td>\n",
       "      <td>B28</td>\n",
       "      <td>NaN</td>\n",
       "    </tr>\n",
       "    <tr>\n",
       "      <th>829</th>\n",
       "      <td>830</td>\n",
       "      <td>1</td>\n",
       "      <td>1</td>\n",
       "      <td>Stone, Mrs. George Nelson (Martha Evelyn)</td>\n",
       "      <td>female</td>\n",
       "      <td>62.0</td>\n",
       "      <td>0</td>\n",
       "      <td>0</td>\n",
       "      <td>113572</td>\n",
       "      <td>80.0</td>\n",
       "      <td>B28</td>\n",
       "      <td>NaN</td>\n",
       "    </tr>\n",
       "  </tbody>\n",
       "</table>\n",
       "</div>"
      ],
      "text/plain": [
       "     PassengerId  Survived  Pclass                                       Name  \\\n",
       "61            62         1       1                        Icard, Miss. Amelie   \n",
       "829          830         1       1  Stone, Mrs. George Nelson (Martha Evelyn)   \n",
       "\n",
       "        Sex   Age  SibSp  Parch  Ticket  Fare Cabin Embarked  \n",
       "61   female  38.0      0      0  113572  80.0   B28      NaN  \n",
       "829  female  62.0      0      0  113572  80.0   B28      NaN  "
      ]
     },
     "execution_count": 12,
     "metadata": {},
     "output_type": "execute_result"
    }
   ],
   "source": [
    "#Detect null values in different features (train_set)\n",
    "print(round (train_data.isnull().sum().sort_values(ascending=False)/len(train_data)*100,1))\n",
    "print(\"\\n\"\n",
    "      \"Age, Fare and Embarked has missing values\")\n",
    "print(\"Find passengers with missing values for Embarked:\")\n",
    "train_data.loc[train_data['Embarked'].isnull()]"
   ]
  },
  {
   "cell_type": "code",
   "execution_count": 13,
   "metadata": {
    "execution": {
     "iopub.execute_input": "2022-02-03T11:03:32.406273Z",
     "iopub.status.busy": "2022-02-03T11:03:32.405620Z",
     "iopub.status.idle": "2022-02-03T11:03:32.409642Z",
     "shell.execute_reply": "2022-02-03T11:03:32.408885Z",
     "shell.execute_reply.started": "2022-02-03T10:52:22.595554Z"
    },
    "papermill": {
     "duration": 0.050713,
     "end_time": "2022-02-03T11:03:32.409742",
     "exception": false,
     "start_time": "2022-02-03T11:03:32.359029",
     "status": "completed"
    },
    "tags": []
   },
   "outputs": [
    {
     "name": "stdout",
     "output_type": "stream",
     "text": [
      "Cabin          78.2\n",
      "Age            20.6\n",
      "Fare            0.2\n",
      "Embarked        0.0\n",
      "Ticket          0.0\n",
      "Parch           0.0\n",
      "SibSp           0.0\n",
      "Sex             0.0\n",
      "Name            0.0\n",
      "Pclass          0.0\n",
      "PassengerId     0.0\n",
      "dtype: float64\n"
     ]
    }
   ],
   "source": [
    "#Detect null values in different features (test_set)\n",
    "print(round (test_data.isnull().sum().sort_values(ascending=False)/len(test_data)*100,1))"
   ]
  },
  {
   "cell_type": "code",
   "execution_count": 14,
   "metadata": {
    "execution": {
     "iopub.execute_input": "2022-02-03T11:03:32.481649Z",
     "iopub.status.busy": "2022-02-03T11:03:32.481096Z",
     "iopub.status.idle": "2022-02-03T11:03:32.683756Z",
     "shell.execute_reply": "2022-02-03T11:03:32.683207Z",
     "shell.execute_reply.started": "2022-02-03T10:52:24.831509Z"
    },
    "papermill": {
     "duration": 0.238597,
     "end_time": "2022-02-03T11:03:32.683891",
     "exception": false,
     "start_time": "2022-02-03T11:03:32.445294",
     "status": "completed"
    },
    "tags": []
   },
   "outputs": [
    {
     "data": {
      "image/png": "[encoded data removed]",
      "text/plain": [
       "<Figure size 432x288 with 1 Axes>"
      ]
     },
     "metadata": {
      "needs_background": "light"
     },
     "output_type": "display_data"
    },
    {
     "name": "stdout",
     "output_type": "stream",
     "text": [
      "Median fare of first class from C is 80 $ -> passengers with missing values were probably embarked in Charbourg \n"
     ]
    }
   ],
   "source": [
    "#Handling of missing values in Embarked \n",
    "#1. approach drop NA-values -> will drop whole row\n",
    "#train_data.dropna()\n",
    "#2.approach fill NA-values\n",
    "#since Passengers that paid the same Fare should have same values for Embarked, we can examine this correlation\n",
    "pplot =sns.boxplot(x=\"Embarked\", y=\"Fare\", hue=\"Pclass\", data=train_data, palette=\"Set1\")\n",
    "pplot.axhline(80)\n",
    "plt.show()\n",
    "\n",
    "print(\"Median fare of first class from C is 80 $ -> passengers with missing values were probably embarked in Charbourg \")\n",
    "#fill missing values with C\n",
    "train_data.fillna(value = {'Embarked':0})\n",
    "train_data['Embarked'] = train_data['Embarked'].fillna(value='C')"
   ]
  },
  {
   "cell_type": "code",
   "execution_count": 15,
   "metadata": {
    "execution": {
     "iopub.execute_input": "2022-02-03T11:03:32.793510Z",
     "iopub.status.busy": "2022-02-03T11:03:32.792834Z",
     "iopub.status.idle": "2022-02-03T11:03:32.795682Z",
     "shell.execute_reply": "2022-02-03T11:03:32.795209Z",
     "shell.execute_reply.started": "2022-02-03T10:52:27.585290Z"
    },
    "papermill": {
     "duration": 0.061945,
     "end_time": "2022-02-03T11:03:32.795774",
     "exception": false,
     "start_time": "2022-02-03T11:03:32.733829",
     "status": "completed"
    },
    "tags": []
   },
   "outputs": [],
   "source": [
    "#fill missing values with C\n",
    "test_data.fillna(value = {'Embarked':0})\n",
    "test_data['Embarked'] = test_data['Embarked'].fillna(value='C')"
   ]
  },
  {
   "cell_type": "code",
   "execution_count": 16,
   "metadata": {
    "execution": {
     "iopub.execute_input": "2022-02-03T11:03:32.870917Z",
     "iopub.status.busy": "2022-02-03T11:03:32.870381Z",
     "iopub.status.idle": "2022-02-03T11:03:32.872594Z",
     "shell.execute_reply": "2022-02-03T11:03:32.872998Z",
     "shell.execute_reply.started": "2022-02-02T14:21:02.801794Z"
    },
    "papermill": {
     "duration": 0.043112,
     "end_time": "2022-02-03T11:03:32.873112",
     "exception": false,
     "start_time": "2022-02-03T11:03:32.830000",
     "status": "completed"
    },
    "tags": []
   },
   "outputs": [
    {
     "data": {
      "text/plain": [
       "PassengerId                     62\n",
       "Survived                         1\n",
       "Pclass                           1\n",
       "Name           Icard, Miss. Amelie\n",
       "Sex                         female\n",
       "Age                             38\n",
       "SibSp                            0\n",
       "Parch                            0\n",
       "Ticket                      113572\n",
       "Fare                            80\n",
       "Cabin                          B28\n",
       "Embarked                         C\n",
       "Name: 61, dtype: object"
      ]
     },
     "execution_count": 16,
     "metadata": {},
     "output_type": "execute_result"
    }
   ],
   "source": [
    "train_data.loc[61]"
   ]
  },
  {
   "cell_type": "code",
   "execution_count": 17,
   "metadata": {
    "execution": {
     "iopub.execute_input": "2022-02-03T11:03:32.970175Z",
     "iopub.status.busy": "2022-02-03T11:03:32.962548Z",
     "iopub.status.idle": "2022-02-03T11:03:32.973742Z",
     "shell.execute_reply": "2022-02-03T11:03:32.974402Z",
     "shell.execute_reply.started": "2022-02-02T14:21:02.815857Z"
    },
    "papermill": {
     "duration": 0.067418,
     "end_time": "2022-02-03T11:03:32.974570",
     "exception": false,
     "start_time": "2022-02-03T11:03:32.907152",
     "status": "completed"
    },
    "tags": []
   },
   "outputs": [
    {
     "data": {
      "text/html": [
       "<div>\n",
       "<style scoped>\n",
       "    .dataframe tbody tr th:only-of-type {\n",
       "        vertical-align: middle;\n",
       "    }\n",
       "\n",
       "    .dataframe tbody tr th {\n",
       "        vertical-align: top;\n",
       "    }\n",
       "\n",
       "    .dataframe thead th {\n",
       "        text-align: right;\n",
       "    }\n",
       "</style>\n",
       "<table border=\"1\" class=\"dataframe\">\n",
       "  <thead>\n",
       "    <tr style=\"text-align: right;\">\n",
       "      <th></th>\n",
       "      <th>PassengerId</th>\n",
       "      <th>Survived</th>\n",
       "      <th>Pclass</th>\n",
       "      <th>Name</th>\n",
       "      <th>Sex</th>\n",
       "      <th>Age</th>\n",
       "      <th>SibSp</th>\n",
       "      <th>Parch</th>\n",
       "      <th>Ticket</th>\n",
       "      <th>Fare</th>\n",
       "      <th>Cabin</th>\n",
       "      <th>Embarked</th>\n",
       "    </tr>\n",
       "  </thead>\n",
       "  <tbody>\n",
       "    <tr>\n",
       "      <th>5</th>\n",
       "      <td>6</td>\n",
       "      <td>0</td>\n",
       "      <td>3</td>\n",
       "      <td>Moran, Mr. James</td>\n",
       "      <td>male</td>\n",
       "      <td>NaN</td>\n",
       "      <td>0</td>\n",
       "      <td>0</td>\n",
       "      <td>330877</td>\n",
       "      <td>8.4583</td>\n",
       "      <td>NaN</td>\n",
       "      <td>Q</td>\n",
       "    </tr>\n",
       "    <tr>\n",
       "      <th>17</th>\n",
       "      <td>18</td>\n",
       "      <td>1</td>\n",
       "      <td>2</td>\n",
       "      <td>Williams, Mr. Charles Eugene</td>\n",
       "      <td>male</td>\n",
       "      <td>NaN</td>\n",
       "      <td>0</td>\n",
       "      <td>0</td>\n",
       "      <td>244373</td>\n",
       "      <td>13.0000</td>\n",
       "      <td>NaN</td>\n",
       "      <td>S</td>\n",
       "    </tr>\n",
       "    <tr>\n",
       "      <th>19</th>\n",
       "      <td>20</td>\n",
       "      <td>1</td>\n",
       "      <td>3</td>\n",
       "      <td>Masselmani, Mrs. Fatima</td>\n",
       "      <td>female</td>\n",
       "      <td>NaN</td>\n",
       "      <td>0</td>\n",
       "      <td>0</td>\n",
       "      <td>2649</td>\n",
       "      <td>7.2250</td>\n",
       "      <td>NaN</td>\n",
       "      <td>C</td>\n",
       "    </tr>\n",
       "    <tr>\n",
       "      <th>26</th>\n",
       "      <td>27</td>\n",
       "      <td>0</td>\n",
       "      <td>3</td>\n",
       "      <td>Emir, Mr. Farred Chehab</td>\n",
       "      <td>male</td>\n",
       "      <td>NaN</td>\n",
       "      <td>0</td>\n",
       "      <td>0</td>\n",
       "      <td>2631</td>\n",
       "      <td>7.2250</td>\n",
       "      <td>NaN</td>\n",
       "      <td>C</td>\n",
       "    </tr>\n",
       "    <tr>\n",
       "      <th>28</th>\n",
       "      <td>29</td>\n",
       "      <td>1</td>\n",
       "      <td>3</td>\n",
       "      <td>O'Dwyer, Miss. Ellen \"Nellie\"</td>\n",
       "      <td>female</td>\n",
       "      <td>NaN</td>\n",
       "      <td>0</td>\n",
       "      <td>0</td>\n",
       "      <td>330959</td>\n",
       "      <td>7.8792</td>\n",
       "      <td>NaN</td>\n",
       "      <td>Q</td>\n",
       "    </tr>\n",
       "    <tr>\n",
       "      <th>...</th>\n",
       "      <td>...</td>\n",
       "      <td>...</td>\n",
       "      <td>...</td>\n",
       "      <td>...</td>\n",
       "      <td>...</td>\n",
       "      <td>...</td>\n",
       "      <td>...</td>\n",
       "      <td>...</td>\n",
       "      <td>...</td>\n",
       "      <td>...</td>\n",
       "      <td>...</td>\n",
       "      <td>...</td>\n",
       "    </tr>\n",
       "    <tr>\n",
       "      <th>859</th>\n",
       "      <td>860</td>\n",
       "      <td>0</td>\n",
       "      <td>3</td>\n",
       "      <td>Razi, Mr. Raihed</td>\n",
       "      <td>male</td>\n",
       "      <td>NaN</td>\n",
       "      <td>0</td>\n",
       "      <td>0</td>\n",
       "      <td>2629</td>\n",
       "      <td>7.2292</td>\n",
       "      <td>NaN</td>\n",
       "      <td>C</td>\n",
       "    </tr>\n",
       "    <tr>\n",
       "      <th>863</th>\n",
       "      <td>864</td>\n",
       "      <td>0</td>\n",
       "      <td>3</td>\n",
       "      <td>Sage, Miss. Dorothy Edith \"Dolly\"</td>\n",
       "      <td>female</td>\n",
       "      <td>NaN</td>\n",
       "      <td>8</td>\n",
       "      <td>2</td>\n",
       "      <td>CA. 2343</td>\n",
       "      <td>69.5500</td>\n",
       "      <td>NaN</td>\n",
       "      <td>S</td>\n",
       "    </tr>\n",
       "    <tr>\n",
       "      <th>868</th>\n",
       "      <td>869</td>\n",
       "      <td>0</td>\n",
       "      <td>3</td>\n",
       "      <td>van Melkebeke, Mr. Philemon</td>\n",
       "      <td>male</td>\n",
       "      <td>NaN</td>\n",
       "      <td>0</td>\n",
       "      <td>0</td>\n",
       "      <td>345777</td>\n",
       "      <td>9.5000</td>\n",
       "      <td>NaN</td>\n",
       "      <td>S</td>\n",
       "    </tr>\n",
       "    <tr>\n",
       "      <th>878</th>\n",
       "      <td>879</td>\n",
       "      <td>0</td>\n",
       "      <td>3</td>\n",
       "      <td>Laleff, Mr. Kristo</td>\n",
       "      <td>male</td>\n",
       "      <td>NaN</td>\n",
       "      <td>0</td>\n",
       "      <td>0</td>\n",
       "      <td>349217</td>\n",
       "      <td>7.8958</td>\n",
       "      <td>NaN</td>\n",
       "      <td>S</td>\n",
       "    </tr>\n",
       "    <tr>\n",
       "      <th>888</th>\n",
       "      <td>889</td>\n",
       "      <td>0</td>\n",
       "      <td>3</td>\n",
       "      <td>Johnston, Miss. Catherine Helen \"Carrie\"</td>\n",
       "      <td>female</td>\n",
       "      <td>NaN</td>\n",
       "      <td>1</td>\n",
       "      <td>2</td>\n",
       "      <td>W./C. 6607</td>\n",
       "      <td>23.4500</td>\n",
       "      <td>NaN</td>\n",
       "      <td>S</td>\n",
       "    </tr>\n",
       "  </tbody>\n",
       "</table>\n",
       "<p>177 rows × 12 columns</p>\n",
       "</div>"
      ],
      "text/plain": [
       "     PassengerId  Survived  Pclass                                      Name  \\\n",
       "5              6         0       3                          Moran, Mr. James   \n",
       "17            18         1       2              Williams, Mr. Charles Eugene   \n",
       "19            20         1       3                   Masselmani, Mrs. Fatima   \n",
       "26            27         0       3                   Emir, Mr. Farred Chehab   \n",
       "28            29         1       3             O'Dwyer, Miss. Ellen \"Nellie\"   \n",
       "..           ...       ...     ...                                       ...   \n",
       "859          860         0       3                          Razi, Mr. Raihed   \n",
       "863          864         0       3         Sage, Miss. Dorothy Edith \"Dolly\"   \n",
       "868          869         0       3               van Melkebeke, Mr. Philemon   \n",
       "878          879         0       3                        Laleff, Mr. Kristo   \n",
       "888          889         0       3  Johnston, Miss. Catherine Helen \"Carrie\"   \n",
       "\n",
       "        Sex  Age  SibSp  Parch      Ticket     Fare Cabin Embarked  \n",
       "5      male  NaN      0      0      330877   8.4583   NaN        Q  \n",
       "17     male  NaN      0      0      244373  13.0000   NaN        S  \n",
       "19   female  NaN      0      0        2649   7.2250   NaN        C  \n",
       "26     male  NaN      0      0        2631   7.2250   NaN        C  \n",
       "28   female  NaN      0      0      330959   7.8792   NaN        Q  \n",
       "..      ...  ...    ...    ...         ...      ...   ...      ...  \n",
       "859    male  NaN      0      0        2629   7.2292   NaN        C  \n",
       "863  female  NaN      8      2    CA. 2343  69.5500   NaN        S  \n",
       "868    male  NaN      0      0      345777   9.5000   NaN        S  \n",
       "878    male  NaN      0      0      349217   7.8958   NaN        S  \n",
       "888  female  NaN      1      2  W./C. 6607  23.4500   NaN        S  \n",
       "\n",
       "[177 rows x 12 columns]"
      ]
     },
     "execution_count": 17,
     "metadata": {},
     "output_type": "execute_result"
    }
   ],
   "source": [
    "#Find missing values for 'Age'\n",
    "train_data.loc[train_data['Age'].isnull()]"
   ]
  },
  {
   "cell_type": "code",
   "execution_count": 18,
   "metadata": {
    "execution": {
     "iopub.execute_input": "2022-02-03T11:03:33.087178Z",
     "iopub.status.busy": "2022-02-03T11:03:33.086308Z",
     "iopub.status.idle": "2022-02-03T11:03:33.095638Z",
     "shell.execute_reply": "2022-02-03T11:03:33.096245Z",
     "shell.execute_reply.started": "2022-02-03T10:52:33.737678Z"
    },
    "papermill": {
     "duration": 0.067563,
     "end_time": "2022-02-03T11:03:33.096417",
     "exception": false,
     "start_time": "2022-02-03T11:03:33.028854",
     "status": "completed"
    },
    "tags": []
   },
   "outputs": [],
   "source": [
    "#Handling null values in Age\n",
    "#1.Approach mean filling of Age\n",
    "#train_data['Age'].fillna(train_data['Age'].mean(),inplace=True)\n",
    "#2. Approach predict age by taking median of groups having a certain sex and pclass\n",
    "by_sex_class = train_data.groupby(['Sex', 'Pclass'])\n",
    "\n",
    "def impute_median(series):\n",
    "    return series.fillna(series.median())\n",
    "\n",
    "train_data.Age = by_sex_class['Age'].transform(impute_median)"
   ]
  },
  {
   "cell_type": "code",
   "execution_count": 19,
   "metadata": {
    "execution": {
     "iopub.execute_input": "2022-02-03T11:03:33.207750Z",
     "iopub.status.busy": "2022-02-03T11:03:33.207209Z",
     "iopub.status.idle": "2022-02-03T11:03:33.217823Z",
     "shell.execute_reply": "2022-02-03T11:03:33.218272Z",
     "shell.execute_reply.started": "2022-02-03T10:52:36.000770Z"
    },
    "papermill": {
     "duration": 0.067797,
     "end_time": "2022-02-03T11:03:33.218394",
     "exception": false,
     "start_time": "2022-02-03T11:03:33.150597",
     "status": "completed"
    },
    "tags": []
   },
   "outputs": [],
   "source": [
    "by_sex_class = test_data.groupby(['Sex', 'Pclass'])\n",
    "\n",
    "def impute_median(series):\n",
    "    return series.fillna(series.median())\n",
    "\n",
    "test_data.Age = by_sex_class['Age'].transform(impute_median)"
   ]
  },
  {
   "cell_type": "markdown",
   "metadata": {
    "papermill": {
     "duration": 0.033927,
     "end_time": "2022-02-03T11:03:33.287130",
     "exception": false,
     "start_time": "2022-02-03T11:03:33.253203",
     "status": "completed"
    },
    "tags": []
   },
   "source": [
    "Impute missing values in 'Fare' (test_data) with mean"
   ]
  },
  {
   "cell_type": "code",
   "execution_count": 20,
   "metadata": {
    "execution": {
     "iopub.execute_input": "2022-02-03T11:03:33.358981Z",
     "iopub.status.busy": "2022-02-03T11:03:33.358484Z",
     "iopub.status.idle": "2022-02-03T11:03:33.363296Z",
     "shell.execute_reply": "2022-02-03T11:03:33.363780Z",
     "shell.execute_reply.started": "2022-02-03T10:52:39.735167Z"
    },
    "papermill": {
     "duration": 0.042177,
     "end_time": "2022-02-03T11:03:33.363904",
     "exception": false,
     "start_time": "2022-02-03T11:03:33.321727",
     "status": "completed"
    },
    "tags": []
   },
   "outputs": [],
   "source": [
    "test_data['Fare'].fillna(value=test_data.Fare.mean(), inplace=True)"
   ]
  },
  {
   "cell_type": "markdown",
   "metadata": {
    "papermill": {
     "duration": 0.034393,
     "end_time": "2022-02-03T11:03:33.433153",
     "exception": false,
     "start_time": "2022-02-03T11:03:33.398760",
     "status": "completed"
    },
    "tags": []
   },
   "source": [
    "Cabin should not have a great influence on passengers survival"
   ]
  },
  {
   "cell_type": "code",
   "execution_count": 21,
   "metadata": {
    "execution": {
     "iopub.execute_input": "2022-02-03T11:03:33.505664Z",
     "iopub.status.busy": "2022-02-03T11:03:33.505172Z",
     "iopub.status.idle": "2022-02-03T11:03:33.511942Z",
     "shell.execute_reply": "2022-02-03T11:03:33.512444Z",
     "shell.execute_reply.started": "2022-02-03T10:52:42.034295Z"
    },
    "papermill": {
     "duration": 0.044487,
     "end_time": "2022-02-03T11:03:33.512561",
     "exception": false,
     "start_time": "2022-02-03T11:03:33.468074",
     "status": "completed"
    },
    "tags": []
   },
   "outputs": [],
   "source": [
    "train_data.drop(['Cabin'],axis = 1, inplace = True)\n",
    "test_data.drop(['Cabin'],axis = 1, inplace = True)"
   ]
  },
  {
   "cell_type": "markdown",
   "metadata": {
    "papermill": {
     "duration": 0.034198,
     "end_time": "2022-02-03T11:03:33.581191",
     "exception": false,
     "start_time": "2022-02-03T11:03:33.546993",
     "status": "completed"
    },
    "tags": []
   },
   "source": [
    "## Categorical feature mapping"
   ]
  },
  {
   "cell_type": "code",
   "execution_count": 22,
   "metadata": {
    "execution": {
     "iopub.execute_input": "2022-02-03T11:03:33.654341Z",
     "iopub.status.busy": "2022-02-03T11:03:33.653771Z",
     "iopub.status.idle": "2022-02-03T11:03:34.131478Z",
     "shell.execute_reply": "2022-02-03T11:03:34.132117Z",
     "shell.execute_reply.started": "2022-02-03T10:52:46.019521Z"
    },
    "papermill": {
     "duration": 0.516255,
     "end_time": "2022-02-03T11:03:34.132243",
     "exception": false,
     "start_time": "2022-02-03T11:03:33.615988",
     "status": "completed"
    },
    "tags": []
   },
   "outputs": [
    {
     "data": {
      "image/png": "[encoded data removed]",
      "text/plain": [
       "<Figure size 1008x576 with 2 Axes>"
      ]
     },
     "metadata": {
      "needs_background": "light"
     },
     "output_type": "display_data"
    }
   ],
   "source": [
    "categories = {\"female\": 1, \"male\": 0}\n",
    "train_data['Sex']= train_data['Sex'].map(categories)\n",
    "test_data['Sex']= test_data['Sex'].map(categories)\n",
    "\n",
    "categories = {\"S\":2, \"C\":1, \"Q\":0}\n",
    "train_data['Embarked'] = train_data['Embarked'].map(categories)\n",
    "test_data['Embarked'] = test_data['Embarked'].map(categories)\n",
    "\n",
    "plt.figure(figsize=(14,8))\n",
    "sns.heatmap(train_data.corr(), annot=True)\n",
    "plt.tight_layout()"
   ]
  },
  {
   "cell_type": "markdown",
   "metadata": {
    "execution": {
     "iopub.execute_input": "2022-02-02T14:52:18.828863Z",
     "iopub.status.busy": "2022-02-02T14:52:18.828286Z",
     "iopub.status.idle": "2022-02-02T14:52:18.835565Z",
     "shell.execute_reply": "2022-02-02T14:52:18.833390Z",
     "shell.execute_reply.started": "2022-02-02T14:52:18.828821Z"
    },
    "papermill": {
     "duration": 0.037118,
     "end_time": "2022-02-03T11:03:34.210302",
     "exception": false,
     "start_time": "2022-02-03T11:03:34.173184",
     "status": "completed"
    },
    "tags": []
   },
   "source": [
    "### Feature selection"
   ]
  },
  {
   "cell_type": "markdown",
   "metadata": {
    "papermill": {
     "duration": 0.038194,
     "end_time": "2022-02-03T11:03:34.285719",
     "exception": false,
     "start_time": "2022-02-03T11:03:34.247525",
     "status": "completed"
    },
    "tags": []
   },
   "source": [
    "Delete features which don't seem to be relevant because they have a low correlation with Survived "
   ]
  },
  {
   "cell_type": "code",
   "execution_count": 23,
   "metadata": {
    "execution": {
     "iopub.execute_input": "2022-02-03T11:03:34.407342Z",
     "iopub.status.busy": "2022-02-03T11:03:34.406744Z",
     "iopub.status.idle": "2022-02-03T11:03:34.411374Z",
     "shell.execute_reply": "2022-02-03T11:03:34.411865Z",
     "shell.execute_reply.started": "2022-02-03T10:53:00.789116Z"
    },
    "papermill": {
     "duration": 0.068138,
     "end_time": "2022-02-03T11:03:34.411995",
     "exception": false,
     "start_time": "2022-02-03T11:03:34.343857",
     "status": "completed"
    },
    "tags": []
   },
   "outputs": [],
   "source": [
    "train_data.drop(['Name', 'Ticket'],axis = 1, inplace = True)\n",
    "test_data.drop(['Name', 'Ticket'],axis = 1, inplace = True)\n"
   ]
  },
  {
   "cell_type": "code",
   "execution_count": 24,
   "metadata": {
    "execution": {
     "iopub.execute_input": "2022-02-03T11:03:34.512691Z",
     "iopub.status.busy": "2022-02-03T11:03:34.511954Z",
     "iopub.status.idle": "2022-02-03T11:03:34.534239Z",
     "shell.execute_reply": "2022-02-03T11:03:34.534861Z",
     "shell.execute_reply.started": "2022-02-03T10:16:34.623072Z"
    },
    "papermill": {
     "duration": 0.082894,
     "end_time": "2022-02-03T11:03:34.535035",
     "exception": false,
     "start_time": "2022-02-03T11:03:34.452141",
     "status": "completed"
    },
    "tags": []
   },
   "outputs": [
    {
     "data": {
      "text/html": [
       "<div>\n",
       "<style scoped>\n",
       "    .dataframe tbody tr th:only-of-type {\n",
       "        vertical-align: middle;\n",
       "    }\n",
       "\n",
       "    .dataframe tbody tr th {\n",
       "        vertical-align: top;\n",
       "    }\n",
       "\n",
       "    .dataframe thead th {\n",
       "        text-align: right;\n",
       "    }\n",
       "</style>\n",
       "<table border=\"1\" class=\"dataframe\">\n",
       "  <thead>\n",
       "    <tr style=\"text-align: right;\">\n",
       "      <th></th>\n",
       "      <th>PassengerId</th>\n",
       "      <th>Survived</th>\n",
       "      <th>Pclass</th>\n",
       "      <th>Sex</th>\n",
       "      <th>Age</th>\n",
       "      <th>SibSp</th>\n",
       "      <th>Parch</th>\n",
       "      <th>Fare</th>\n",
       "      <th>Embarked</th>\n",
       "    </tr>\n",
       "  </thead>\n",
       "  <tbody>\n",
       "    <tr>\n",
       "      <th>0</th>\n",
       "      <td>1</td>\n",
       "      <td>0</td>\n",
       "      <td>3</td>\n",
       "      <td>0</td>\n",
       "      <td>22.0</td>\n",
       "      <td>1</td>\n",
       "      <td>0</td>\n",
       "      <td>7.2500</td>\n",
       "      <td>2</td>\n",
       "    </tr>\n",
       "    <tr>\n",
       "      <th>1</th>\n",
       "      <td>2</td>\n",
       "      <td>1</td>\n",
       "      <td>1</td>\n",
       "      <td>1</td>\n",
       "      <td>38.0</td>\n",
       "      <td>1</td>\n",
       "      <td>0</td>\n",
       "      <td>71.2833</td>\n",
       "      <td>1</td>\n",
       "    </tr>\n",
       "    <tr>\n",
       "      <th>2</th>\n",
       "      <td>3</td>\n",
       "      <td>1</td>\n",
       "      <td>3</td>\n",
       "      <td>1</td>\n",
       "      <td>26.0</td>\n",
       "      <td>0</td>\n",
       "      <td>0</td>\n",
       "      <td>7.9250</td>\n",
       "      <td>2</td>\n",
       "    </tr>\n",
       "    <tr>\n",
       "      <th>3</th>\n",
       "      <td>4</td>\n",
       "      <td>1</td>\n",
       "      <td>1</td>\n",
       "      <td>1</td>\n",
       "      <td>35.0</td>\n",
       "      <td>1</td>\n",
       "      <td>0</td>\n",
       "      <td>53.1000</td>\n",
       "      <td>2</td>\n",
       "    </tr>\n",
       "    <tr>\n",
       "      <th>4</th>\n",
       "      <td>5</td>\n",
       "      <td>0</td>\n",
       "      <td>3</td>\n",
       "      <td>0</td>\n",
       "      <td>35.0</td>\n",
       "      <td>0</td>\n",
       "      <td>0</td>\n",
       "      <td>8.0500</td>\n",
       "      <td>2</td>\n",
       "    </tr>\n",
       "    <tr>\n",
       "      <th>...</th>\n",
       "      <td>...</td>\n",
       "      <td>...</td>\n",
       "      <td>...</td>\n",
       "      <td>...</td>\n",
       "      <td>...</td>\n",
       "      <td>...</td>\n",
       "      <td>...</td>\n",
       "      <td>...</td>\n",
       "      <td>...</td>\n",
       "    </tr>\n",
       "    <tr>\n",
       "      <th>886</th>\n",
       "      <td>887</td>\n",
       "      <td>0</td>\n",
       "      <td>2</td>\n",
       "      <td>0</td>\n",
       "      <td>27.0</td>\n",
       "      <td>0</td>\n",
       "      <td>0</td>\n",
       "      <td>13.0000</td>\n",
       "      <td>2</td>\n",
       "    </tr>\n",
       "    <tr>\n",
       "      <th>887</th>\n",
       "      <td>888</td>\n",
       "      <td>1</td>\n",
       "      <td>1</td>\n",
       "      <td>1</td>\n",
       "      <td>19.0</td>\n",
       "      <td>0</td>\n",
       "      <td>0</td>\n",
       "      <td>30.0000</td>\n",
       "      <td>2</td>\n",
       "    </tr>\n",
       "    <tr>\n",
       "      <th>888</th>\n",
       "      <td>889</td>\n",
       "      <td>0</td>\n",
       "      <td>3</td>\n",
       "      <td>1</td>\n",
       "      <td>21.5</td>\n",
       "      <td>1</td>\n",
       "      <td>2</td>\n",
       "      <td>23.4500</td>\n",
       "      <td>2</td>\n",
       "    </tr>\n",
       "    <tr>\n",
       "      <th>889</th>\n",
       "      <td>890</td>\n",
       "      <td>1</td>\n",
       "      <td>1</td>\n",
       "      <td>0</td>\n",
       "      <td>26.0</td>\n",
       "      <td>0</td>\n",
       "      <td>0</td>\n",
       "      <td>30.0000</td>\n",
       "      <td>1</td>\n",
       "    </tr>\n",
       "    <tr>\n",
       "      <th>890</th>\n",
       "      <td>891</td>\n",
       "      <td>0</td>\n",
       "      <td>3</td>\n",
       "      <td>0</td>\n",
       "      <td>32.0</td>\n",
       "      <td>0</td>\n",
       "      <td>0</td>\n",
       "      <td>7.7500</td>\n",
       "      <td>0</td>\n",
       "    </tr>\n",
       "  </tbody>\n",
       "</table>\n",
       "<p>891 rows × 9 columns</p>\n",
       "</div>"
      ],
      "text/plain": [
       "     PassengerId  Survived  Pclass  Sex   Age  SibSp  Parch     Fare  Embarked\n",
       "0              1         0       3    0  22.0      1      0   7.2500         2\n",
       "1              2         1       1    1  38.0      1      0  71.2833         1\n",
       "2              3         1       3    1  26.0      0      0   7.9250         2\n",
       "3              4         1       1    1  35.0      1      0  53.1000         2\n",
       "4              5         0       3    0  35.0      0      0   8.0500         2\n",
       "..           ...       ...     ...  ...   ...    ...    ...      ...       ...\n",
       "886          887         0       2    0  27.0      0      0  13.0000         2\n",
       "887          888         1       1    1  19.0      0      0  30.0000         2\n",
       "888          889         0       3    1  21.5      1      2  23.4500         2\n",
       "889          890         1       1    0  26.0      0      0  30.0000         1\n",
       "890          891         0       3    0  32.0      0      0   7.7500         0\n",
       "\n",
       "[891 rows x 9 columns]"
      ]
     },
     "execution_count": 24,
     "metadata": {},
     "output_type": "execute_result"
    }
   ],
   "source": [
    "train_data"
   ]
  },
  {
   "cell_type": "markdown",
   "metadata": {
    "papermill": {
     "duration": 0.057368,
     "end_time": "2022-02-03T11:03:34.649698",
     "exception": false,
     "start_time": "2022-02-03T11:03:34.592330",
     "status": "completed"
    },
    "tags": []
   },
   "source": [
    "# Train a ML model"
   ]
  },
  {
   "cell_type": "code",
   "execution_count": 25,
   "metadata": {
    "execution": {
     "iopub.execute_input": "2022-02-03T11:03:34.773290Z",
     "iopub.status.busy": "2022-02-03T11:03:34.772656Z",
     "iopub.status.idle": "2022-02-03T11:03:34.774941Z",
     "shell.execute_reply": "2022-02-03T11:03:34.775362Z",
     "shell.execute_reply.started": "2022-02-03T10:53:04.528660Z"
    },
    "papermill": {
     "duration": 0.065887,
     "end_time": "2022-02-03T11:03:34.775514",
     "exception": false,
     "start_time": "2022-02-03T11:03:34.709627",
     "status": "completed"
    },
    "tags": []
   },
   "outputs": [],
   "source": [
    "X_train = train_data.drop([\"Survived\"], axis = 1)\n",
    "y_train = train_data[\"Survived\"].copy()"
   ]
  },
  {
   "cell_type": "markdown",
   "metadata": {
    "papermill": {
     "duration": 0.038334,
     "end_time": "2022-02-03T11:03:34.852404",
     "exception": false,
     "start_time": "2022-02-03T11:03:34.814070",
     "status": "completed"
    },
    "tags": []
   },
   "source": [
    "Scale the data using MinMaxNormalization before using it as an input for the Random Forest"
   ]
  },
  {
   "cell_type": "code",
   "execution_count": 26,
   "metadata": {
    "execution": {
     "iopub.execute_input": "2022-02-03T11:03:34.932380Z",
     "iopub.status.busy": "2022-02-03T11:03:34.931843Z",
     "iopub.status.idle": "2022-02-03T11:03:34.957289Z",
     "shell.execute_reply": "2022-02-03T11:03:34.956694Z",
     "shell.execute_reply.started": "2022-02-03T10:53:07.409061Z"
    },
    "papermill": {
     "duration": 0.066547,
     "end_time": "2022-02-03T11:03:34.957396",
     "exception": false,
     "start_time": "2022-02-03T11:03:34.890849",
     "status": "completed"
    },
    "tags": []
   },
   "outputs": [
    {
     "data": {
      "text/html": [
       "<div>\n",
       "<style scoped>\n",
       "    .dataframe tbody tr th:only-of-type {\n",
       "        vertical-align: middle;\n",
       "    }\n",
       "\n",
       "    .dataframe tbody tr th {\n",
       "        vertical-align: top;\n",
       "    }\n",
       "\n",
       "    .dataframe thead th {\n",
       "        text-align: right;\n",
       "    }\n",
       "</style>\n",
       "<table border=\"1\" class=\"dataframe\">\n",
       "  <thead>\n",
       "    <tr style=\"text-align: right;\">\n",
       "      <th></th>\n",
       "      <th>PassengerId</th>\n",
       "      <th>Pclass</th>\n",
       "      <th>Sex</th>\n",
       "      <th>Age</th>\n",
       "      <th>SibSp</th>\n",
       "      <th>Parch</th>\n",
       "      <th>Fare</th>\n",
       "      <th>Embarked</th>\n",
       "    </tr>\n",
       "  </thead>\n",
       "  <tbody>\n",
       "    <tr>\n",
       "      <th>0</th>\n",
       "      <td>0.000000</td>\n",
       "      <td>1.0</td>\n",
       "      <td>0.0</td>\n",
       "      <td>0.271174</td>\n",
       "      <td>0.125</td>\n",
       "      <td>0.0</td>\n",
       "      <td>0.014151</td>\n",
       "      <td>1.0</td>\n",
       "    </tr>\n",
       "    <tr>\n",
       "      <th>1</th>\n",
       "      <td>0.001124</td>\n",
       "      <td>0.0</td>\n",
       "      <td>1.0</td>\n",
       "      <td>0.472229</td>\n",
       "      <td>0.125</td>\n",
       "      <td>0.0</td>\n",
       "      <td>0.139136</td>\n",
       "      <td>0.5</td>\n",
       "    </tr>\n",
       "    <tr>\n",
       "      <th>2</th>\n",
       "      <td>0.002247</td>\n",
       "      <td>1.0</td>\n",
       "      <td>1.0</td>\n",
       "      <td>0.321438</td>\n",
       "      <td>0.000</td>\n",
       "      <td>0.0</td>\n",
       "      <td>0.015469</td>\n",
       "      <td>1.0</td>\n",
       "    </tr>\n",
       "    <tr>\n",
       "      <th>3</th>\n",
       "      <td>0.003371</td>\n",
       "      <td>0.0</td>\n",
       "      <td>1.0</td>\n",
       "      <td>0.434531</td>\n",
       "      <td>0.125</td>\n",
       "      <td>0.0</td>\n",
       "      <td>0.103644</td>\n",
       "      <td>1.0</td>\n",
       "    </tr>\n",
       "    <tr>\n",
       "      <th>4</th>\n",
       "      <td>0.004494</td>\n",
       "      <td>1.0</td>\n",
       "      <td>0.0</td>\n",
       "      <td>0.434531</td>\n",
       "      <td>0.000</td>\n",
       "      <td>0.0</td>\n",
       "      <td>0.015713</td>\n",
       "      <td>1.0</td>\n",
       "    </tr>\n",
       "  </tbody>\n",
       "</table>\n",
       "</div>"
      ],
      "text/plain": [
       "   PassengerId  Pclass  Sex       Age  SibSp  Parch      Fare  Embarked\n",
       "0     0.000000     1.0  0.0  0.271174  0.125    0.0  0.014151       1.0\n",
       "1     0.001124     0.0  1.0  0.472229  0.125    0.0  0.139136       0.5\n",
       "2     0.002247     1.0  1.0  0.321438  0.000    0.0  0.015469       1.0\n",
       "3     0.003371     0.0  1.0  0.434531  0.125    0.0  0.103644       1.0\n",
       "4     0.004494     1.0  0.0  0.434531  0.000    0.0  0.015713       1.0"
      ]
     },
     "execution_count": 26,
     "metadata": {},
     "output_type": "execute_result"
    }
   ],
   "source": [
    "from sklearn.preprocessing import MinMaxScaler\n",
    "\n",
    "scaler = MinMaxScaler()\n",
    "scaled_train = scaler.fit_transform(X_train)\n",
    "scaled_test = scaler.transform(test_data)\n",
    "\n",
    "scaled_X_train = pd.DataFrame(scaled_train, columns=X_train.columns, index=X_train.index)\n",
    "scaled_X_test = pd.DataFrame(scaled_test, columns=test_data.columns, index=test_data.index)\n",
    "\n",
    "scaled_X_train.head()"
   ]
  },
  {
   "cell_type": "code",
   "execution_count": 27,
   "metadata": {
    "execution": {
     "iopub.execute_input": "2022-02-03T11:03:35.043836Z",
     "iopub.status.busy": "2022-02-03T11:03:35.043246Z",
     "iopub.status.idle": "2022-02-03T11:03:56.237564Z",
     "shell.execute_reply": "2022-02-03T11:03:56.238107Z",
     "shell.execute_reply.started": "2022-02-03T10:37:00.876153Z"
    },
    "papermill": {
     "duration": 21.24193,
     "end_time": "2022-02-03T11:03:56.238274",
     "exception": false,
     "start_time": "2022-02-03T11:03:34.996344",
     "status": "completed"
    },
    "tags": []
   },
   "outputs": [
    {
     "data": {
      "text/plain": [
       "GridSearchCV(cv=5, estimator=RandomForestClassifier(),\n",
       "             param_grid=[{'bootstrap': [True, False], 'max_depth': [2, 3, None],\n",
       "                          'n_estimators': [50, 100, 200]}],\n",
       "             scoring='accuracy')"
      ]
     },
     "execution_count": 27,
     "metadata": {},
     "output_type": "execute_result"
    }
   ],
   "source": [
    "from sklearn.ensemble import RandomForestClassifier\n",
    "from sklearn.model_selection import GridSearchCV\n",
    "\n",
    "grid_rf = [{\n",
    "    'n_estimators':[50,100,200],\n",
    "    'max_depth': [2,3, None],\n",
    "    'bootstrap': [True, False]\n",
    "    \n",
    "}]\n",
    "\n",
    "clf_rf = RandomForestClassifier()\n",
    "grid_rf = GridSearchCV(estimator = clf_rf, param_grid = grid_rf, cv = 5, scoring = \"accuracy\")\n",
    "grid_rf.fit(scaled_X_train, y_train)"
   ]
  },
  {
   "cell_type": "code",
   "execution_count": 28,
   "metadata": {
    "execution": {
     "iopub.execute_input": "2022-02-03T11:03:56.356707Z",
     "iopub.status.busy": "2022-02-03T11:03:56.355977Z",
     "iopub.status.idle": "2022-02-03T11:03:56.362284Z",
     "shell.execute_reply": "2022-02-03T11:03:56.362870Z",
     "shell.execute_reply.started": "2022-02-03T10:29:55.386607Z"
    },
    "papermill": {
     "duration": 0.067082,
     "end_time": "2022-02-03T11:03:56.363055",
     "exception": false,
     "start_time": "2022-02-03T11:03:56.295973",
     "status": "completed"
    },
    "tags": []
   },
   "outputs": [
    {
     "data": {
      "text/plain": [
       "RandomForestClassifier(max_depth=3, n_estimators=200)"
      ]
     },
     "execution_count": 28,
     "metadata": {},
     "output_type": "execute_result"
    }
   ],
   "source": [
    "grid_rf.best_estimator_"
   ]
  },
  {
   "cell_type": "code",
   "execution_count": 29,
   "metadata": {
    "execution": {
     "iopub.execute_input": "2022-02-03T11:03:56.481864Z",
     "iopub.status.busy": "2022-02-03T11:03:56.481063Z",
     "iopub.status.idle": "2022-02-03T11:03:56.484422Z",
     "shell.execute_reply": "2022-02-03T11:03:56.484937Z",
     "shell.execute_reply.started": "2022-02-03T10:30:30.533367Z"
    },
    "papermill": {
     "duration": 0.064786,
     "end_time": "2022-02-03T11:03:56.485072",
     "exception": false,
     "start_time": "2022-02-03T11:03:56.420286",
     "status": "completed"
    },
    "tags": []
   },
   "outputs": [
    {
     "data": {
      "text/plain": [
       "0.807005209967987"
      ]
     },
     "execution_count": 29,
     "metadata": {},
     "output_type": "execute_result"
    }
   ],
   "source": [
    "grid_rf.best_score_"
   ]
  },
  {
   "cell_type": "code",
   "execution_count": 30,
   "metadata": {
    "execution": {
     "iopub.execute_input": "2022-02-03T11:03:56.727145Z",
     "iopub.status.busy": "2022-02-03T11:03:56.721929Z",
     "iopub.status.idle": "2022-02-03T11:03:57.178071Z",
     "shell.execute_reply": "2022-02-03T11:03:57.177402Z",
     "shell.execute_reply.started": "2022-02-03T11:00:54.965528Z"
    },
    "papermill": {
     "duration": 0.52168,
     "end_time": "2022-02-03T11:03:57.178192",
     "exception": false,
     "start_time": "2022-02-03T11:03:56.656512",
     "status": "completed"
    },
    "tags": []
   },
   "outputs": [
    {
     "name": "stdout",
     "output_type": "stream",
     "text": [
      "Your submission was successfully saved!\n"
     ]
    }
   ],
   "source": [
    "model = RandomForestClassifier(n_estimators = 100, max_depth= 3, bootstrap = False)\n",
    "model.fit(scaled_X_train,y_train)\n",
    "predictions = model.predict(scaled_X_test)\n",
    "\n",
    "output = pd.DataFrame({'PassengerId':test_data.PassengerId,'Survived':predictions})\n",
    "output.to_csv('rf_submission.csv', index=False)\n",
    "print(\"Your submission was successfully saved!\")"
   ]
  },
  {
   "cell_type": "code",
   "execution_count": 31,
   "metadata": {
    "execution": {
     "iopub.execute_input": "2022-02-03T11:03:57.303963Z",
     "iopub.status.busy": "2022-02-03T11:03:57.303187Z",
     "iopub.status.idle": "2022-02-03T11:03:57.306054Z",
     "shell.execute_reply": "2022-02-03T11:03:57.306715Z",
     "shell.execute_reply.started": "2022-02-03T10:59:38.803820Z"
    },
    "papermill": {
     "duration": 0.071125,
     "end_time": "2022-02-03T11:03:57.306872",
     "exception": false,
     "start_time": "2022-02-03T11:03:57.235747",
     "status": "completed"
    },
    "tags": []
   },
   "outputs": [
    {
     "data": {
      "text/html": [
       "<div>\n",
       "<style scoped>\n",
       "    .dataframe tbody tr th:only-of-type {\n",
       "        vertical-align: middle;\n",
       "    }\n",
       "\n",
       "    .dataframe tbody tr th {\n",
       "        vertical-align: top;\n",
       "    }\n",
       "\n",
       "    .dataframe thead th {\n",
       "        text-align: right;\n",
       "    }\n",
       "</style>\n",
       "<table border=\"1\" class=\"dataframe\">\n",
       "  <thead>\n",
       "    <tr style=\"text-align: right;\">\n",
       "      <th></th>\n",
       "      <th>PassengerId</th>\n",
       "      <th>Survived</th>\n",
       "    </tr>\n",
       "  </thead>\n",
       "  <tbody>\n",
       "    <tr>\n",
       "      <th>0</th>\n",
       "      <td>892</td>\n",
       "      <td>0</td>\n",
       "    </tr>\n",
       "    <tr>\n",
       "      <th>1</th>\n",
       "      <td>893</td>\n",
       "      <td>0</td>\n",
       "    </tr>\n",
       "    <tr>\n",
       "      <th>2</th>\n",
       "      <td>894</td>\n",
       "      <td>0</td>\n",
       "    </tr>\n",
       "    <tr>\n",
       "      <th>3</th>\n",
       "      <td>895</td>\n",
       "      <td>0</td>\n",
       "    </tr>\n",
       "    <tr>\n",
       "      <th>4</th>\n",
       "      <td>896</td>\n",
       "      <td>0</td>\n",
       "    </tr>\n",
       "    <tr>\n",
       "      <th>...</th>\n",
       "      <td>...</td>\n",
       "      <td>...</td>\n",
       "    </tr>\n",
       "    <tr>\n",
       "      <th>413</th>\n",
       "      <td>1305</td>\n",
       "      <td>0</td>\n",
       "    </tr>\n",
       "    <tr>\n",
       "      <th>414</th>\n",
       "      <td>1306</td>\n",
       "      <td>1</td>\n",
       "    </tr>\n",
       "    <tr>\n",
       "      <th>415</th>\n",
       "      <td>1307</td>\n",
       "      <td>0</td>\n",
       "    </tr>\n",
       "    <tr>\n",
       "      <th>416</th>\n",
       "      <td>1308</td>\n",
       "      <td>0</td>\n",
       "    </tr>\n",
       "    <tr>\n",
       "      <th>417</th>\n",
       "      <td>1309</td>\n",
       "      <td>0</td>\n",
       "    </tr>\n",
       "  </tbody>\n",
       "</table>\n",
       "<p>418 rows × 2 columns</p>\n",
       "</div>"
      ],
      "text/plain": [
       "     PassengerId  Survived\n",
       "0            892         0\n",
       "1            893         0\n",
       "2            894         0\n",
       "3            895         0\n",
       "4            896         0\n",
       "..           ...       ...\n",
       "413         1305         0\n",
       "414         1306         1\n",
       "415         1307         0\n",
       "416         1308         0\n",
       "417         1309         0\n",
       "\n",
       "[418 rows x 2 columns]"
      ]
     },
     "execution_count": 31,
     "metadata": {},
     "output_type": "execute_result"
    }
   ],
   "source": [
    "output\n"
   ]
  },
  {
   "cell_type": "code",
   "execution_count": null,
   "metadata": {
    "papermill": {
     "duration": 0.059616,
     "end_time": "2022-02-03T11:03:57.425953",
     "exception": false,
     "start_time": "2022-02-03T11:03:57.366337",
     "status": "completed"
    },
    "tags": []
   },
   "outputs": [],
   "source": []
  },
  {
   "cell_type": "code",
   "execution_count": null,
   "metadata": {
    "papermill": {
     "duration": 0.058781,
     "end_time": "2022-02-03T11:03:57.543760",
     "exception": false,
     "start_time": "2022-02-03T11:03:57.484979",
     "status": "completed"
    },
    "tags": []
   },
   "outputs": [],
   "source": []
  },
  {
   "cell_type": "code",
   "execution_count": null,
   "metadata": {
    "papermill": {
     "duration": 0.059164,
     "end_time": "2022-02-03T11:03:57.661996",
     "exception": false,
     "start_time": "2022-02-03T11:03:57.602832",
     "status": "completed"
    },
    "tags": []
   },
   "outputs": [],
   "source": []
  },
  {
   "cell_type": "code",
   "execution_count": null,
   "metadata": {
    "papermill": {
     "duration": 0.058574,
     "end_time": "2022-02-03T11:03:57.780125",
     "exception": false,
     "start_time": "2022-02-03T11:03:57.721551",
     "status": "completed"
    },
    "tags": []
   },
   "outputs": [],
   "source": []
  },
  {
   "cell_type": "code",
   "execution_count": null,
   "metadata": {
    "papermill": {
     "duration": 0.057991,
     "end_time": "2022-02-03T11:03:57.896895",
     "exception": false,
     "start_time": "2022-02-03T11:03:57.838904",
     "status": "completed"
    },
    "tags": []
   },
   "outputs": [],
   "source": []
  }
 ],
 "metadata": {
  "kernelspec": {
   "display_name": "Python 3",
   "language": "python",
   "name": "python3"
  },
  "language_info": {
   "codemirror_mode": {
    "name": "ipython",
    "version": 3
   },
   "file_extension": ".py",
   "mimetype": "text/x-python",
   "name": "python",
   "nbconvert_exporter": "python",
   "pygments_lexer": "ipython3",
   "version": "3.7.6"
  },
  "papermill": {
   "duration": 33.104658,
   "end_time": "2022-02-03T11:03:58.062704",
   "environment_variables": {},
   "exception": null,
   "input_path": "__notebook__.ipynb",
   "output_path": "__notebook__.ipynb",
   "parameters": {},
   "start_time": "2022-02-03T11:03:24.958046",
   "version": "2.1.0"
  }
 },
 "nbformat": 4,
 "nbformat_minor": 4
}
